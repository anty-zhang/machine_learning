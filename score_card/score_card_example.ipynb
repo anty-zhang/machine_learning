{
 "cells": [
  {
   "cell_type": "code",
   "execution_count": 1,
   "id": "2cb099bd-0d4d-4a99-8438-c494e06367b3",
   "metadata": {},
   "outputs": [],
   "source": [
    "import os\n",
    "import pandas as pd\n",
    "import numpy as np\n",
    "import matplotlib.pyplot as plt\n",
    "%matplotlib inline\n",
    "import seaborn as sns\n",
    "import copy\n",
    "from scipy import stats\n",
    "from sklearn.ensemble import RandomForestRegressor\n",
    "import warnings\n",
    "warnings.filterwarnings('ignore')"
   ]
  },
  {
   "cell_type": "code",
   "execution_count": 55,
   "id": "c25da6a9-0e4c-4232-b2c2-3c5b3cc5022f",
   "metadata": {},
   "outputs": [],
   "source": [
    "# 建模流程: https://zhuanlan.zhihu.com/p/432193136\n",
    "## 数据获取\n",
    "## 数据预处理: 数据清洗/异常值/缺失值/类型转换\n",
    "## EDA: 数据分析/描述性统计\n",
    "## 变量选择: iv/feature important/方差\n",
    "## 模型开发: woe分箱(50多种)/分数拉伸/变量系数计算\n",
    "## 模型验证: 模型区分能力/预测能力/稳定性/排序能力\n",
    "## 信用评分卡\n",
    "## 模型监控"
   ]
  },
  {
   "cell_type": "markdown",
   "id": "2a78c2be-82d9-40dc-a5b2-cc533d1394bb",
   "metadata": {},
   "source": [
    "# 1. 数据读取及变量解释"
   ]
  },
  {
   "cell_type": "code",
   "execution_count": 2,
   "id": "20d627e0-0a42-4bb0-a15f-0f261276582c",
   "metadata": {},
   "outputs": [],
   "source": [
    "# https://cloud.tencent.com/developer/article/1448182\n",
    "# x0:SeriousDlqin2yrs：好坏客户(1: 坏客户; 0: 好客户)\n",
    "# x1:RevolvingUtilization Of UnsecuredLines：无担保放款的循环利用：除了不动产和像车贷那样除以信用额度总和的无分期付款债务的信用卡和个人信用额度总额/可用额度比值\n",
    "# x2:Age：借款人年龄\n",
    "# x3:NumberOfTime30-59DaysPastDueNotWorse：30-59天逾期次数\n",
    "# x4:DebtRatio：负债比例\n",
    "# x5:MonthlyIncome：月收入\n",
    "# x6:Number Of OpenCreditLinesAndLoans：开放式信贷和贷款数量\n",
    "# x7:NumberOfTimes90DaysLate：90天逾期次数：借款者有90天或更高逾期的次数\n",
    "# x8:NumberReal Estate Loans Or Lines：不动产贷款或额度数量：抵押贷款和不动产放款包括房屋净值信贷额度\n",
    "# x9:Number Of Time 60-89Days PastDue Not Worse：60-89天逾期次数\n",
    "# x10:NumberOfDependents：家属数量,不包括本人在内的家属数量"
   ]
  },
  {
   "cell_type": "code",
   "execution_count": 3,
   "id": "61144f07-b2ae-4f3b-aae5-84dfd71588ef",
   "metadata": {},
   "outputs": [],
   "source": [
    "# home_path\n",
    "home_path = os.path.abspath(\".\")"
   ]
  },
  {
   "cell_type": "code",
   "execution_count": 4,
   "id": "e3892679-1832-4d4e-9dbe-1ff1ec9c8830",
   "metadata": {},
   "outputs": [
    {
     "name": "stdout",
     "output_type": "stream",
     "text": [
      "train_data shape:  (150000, 12)\n",
      "<class 'pandas.core.frame.DataFrame'>\n",
      "RangeIndex: 150000 entries, 0 to 149999\n",
      "Data columns (total 12 columns):\n",
      " #   Column                                Non-Null Count   Dtype  \n",
      "---  ------                                --------------   -----  \n",
      " 0   Unnamed: 0                            150000 non-null  int64  \n",
      " 1   SeriousDlqin2yrs                      150000 non-null  int64  \n",
      " 2   RevolvingUtilizationOfUnsecuredLines  150000 non-null  float64\n",
      " 3   age                                   150000 non-null  int64  \n",
      " 4   NumberOfTime30-59DaysPastDueNotWorse  150000 non-null  int64  \n",
      " 5   DebtRatio                             150000 non-null  float64\n",
      " 6   MonthlyIncome                         120269 non-null  float64\n",
      " 7   NumberOfOpenCreditLinesAndLoans       150000 non-null  int64  \n",
      " 8   NumberOfTimes90DaysLate               150000 non-null  int64  \n",
      " 9   NumberRealEstateLoansOrLines          150000 non-null  int64  \n",
      " 10  NumberOfTime60-89DaysPastDueNotWorse  150000 non-null  int64  \n",
      " 11  NumberOfDependents                    146076 non-null  float64\n",
      "dtypes: float64(4), int64(8)\n",
      "memory usage: 13.7 MB\n",
      "train_data info:  None\n",
      "======================================================\n",
      "test_data shape:  (101503, 12)\n",
      "<class 'pandas.core.frame.DataFrame'>\n",
      "RangeIndex: 101503 entries, 0 to 101502\n",
      "Data columns (total 12 columns):\n",
      " #   Column                                Non-Null Count   Dtype  \n",
      "---  ------                                --------------   -----  \n",
      " 0   Unnamed: 0                            101503 non-null  int64  \n",
      " 1   SeriousDlqin2yrs                      0 non-null       float64\n",
      " 2   RevolvingUtilizationOfUnsecuredLines  101503 non-null  float64\n",
      " 3   age                                   101503 non-null  int64  \n",
      " 4   NumberOfTime30-59DaysPastDueNotWorse  101503 non-null  int64  \n",
      " 5   DebtRatio                             101503 non-null  float64\n",
      " 6   MonthlyIncome                         81400 non-null   float64\n",
      " 7   NumberOfOpenCreditLinesAndLoans       101503 non-null  int64  \n",
      " 8   NumberOfTimes90DaysLate               101503 non-null  int64  \n",
      " 9   NumberRealEstateLoansOrLines          101503 non-null  int64  \n",
      " 10  NumberOfTime60-89DaysPastDueNotWorse  101503 non-null  int64  \n",
      " 11  NumberOfDependents                    98877 non-null   float64\n",
      "dtypes: float64(5), int64(7)\n",
      "memory usage: 9.3 MB\n",
      "test_data info:  None\n"
     ]
    }
   ],
   "source": [
    "train_data_file = os.path.join(home_path, 'data/cs-training.csv')\n",
    "test_data_file = os.path.join(home_path, 'data/cs-test.csv')\n",
    "train_data = pd.read_csv(train_data_file)\n",
    "test_data = pd.read_csv(test_data_file)\n",
    "\n",
    "print(\"train_data shape: \", train_data.shape)\n",
    "print(\"train_data info: \", train_data.info())\n",
    "print(\"======================================================\")\n",
    "print(\"test_data shape: \", test_data.shape)\n",
    "print(\"test_data info: \", test_data.info())"
   ]
  },
  {
   "cell_type": "markdown",
   "id": "0e87f3f5-acf6-4650-9ea6-ad875d6732e1",
   "metadata": {},
   "source": [
    "# 2.数据分析和探索"
   ]
  },
  {
   "cell_type": "markdown",
   "id": "211e6f0a-eb9c-4fba-8e37-e0ad24f93de8",
   "metadata": {},
   "source": [
    "## 查看各数据特征分布"
   ]
  },
  {
   "cell_type": "code",
   "execution_count": 5,
   "id": "b2966953-c7b7-4c5e-82ab-73be6dc7fcd8",
   "metadata": {},
   "outputs": [],
   "source": [
    "train_data.set_index('Unnamed: 0', inplace=True)\n",
    "test_data.set_index('Unnamed: 0', inplace=True)"
   ]
  },
  {
   "cell_type": "code",
   "execution_count": 6,
   "id": "27bdf3c5-53c0-4479-ac30-a1b342cb9d81",
   "metadata": {},
   "outputs": [
    {
     "data": {
      "text/html": [
       "<div>\n",
       "<style scoped>\n",
       "    .dataframe tbody tr th:only-of-type {\n",
       "        vertical-align: middle;\n",
       "    }\n",
       "\n",
       "    .dataframe tbody tr th {\n",
       "        vertical-align: top;\n",
       "    }\n",
       "\n",
       "    .dataframe thead th {\n",
       "        text-align: right;\n",
       "    }\n",
       "</style>\n",
       "<table border=\"1\" class=\"dataframe\">\n",
       "  <thead>\n",
       "    <tr style=\"text-align: right;\">\n",
       "      <th></th>\n",
       "      <th>SeriousDlqin2yrs</th>\n",
       "      <th>RevolvingUtilizationOfUnsecuredLines</th>\n",
       "      <th>age</th>\n",
       "      <th>NumberOfTime30-59DaysPastDueNotWorse</th>\n",
       "      <th>DebtRatio</th>\n",
       "      <th>MonthlyIncome</th>\n",
       "      <th>NumberOfOpenCreditLinesAndLoans</th>\n",
       "      <th>NumberOfTimes90DaysLate</th>\n",
       "      <th>NumberRealEstateLoansOrLines</th>\n",
       "      <th>NumberOfTime60-89DaysPastDueNotWorse</th>\n",
       "      <th>NumberOfDependents</th>\n",
       "    </tr>\n",
       "    <tr>\n",
       "      <th>Unnamed: 0</th>\n",
       "      <th></th>\n",
       "      <th></th>\n",
       "      <th></th>\n",
       "      <th></th>\n",
       "      <th></th>\n",
       "      <th></th>\n",
       "      <th></th>\n",
       "      <th></th>\n",
       "      <th></th>\n",
       "      <th></th>\n",
       "      <th></th>\n",
       "    </tr>\n",
       "  </thead>\n",
       "  <tbody>\n",
       "    <tr>\n",
       "      <th>1</th>\n",
       "      <td>1</td>\n",
       "      <td>0.766127</td>\n",
       "      <td>45</td>\n",
       "      <td>2</td>\n",
       "      <td>0.802982</td>\n",
       "      <td>9120.0</td>\n",
       "      <td>13</td>\n",
       "      <td>0</td>\n",
       "      <td>6</td>\n",
       "      <td>0</td>\n",
       "      <td>2.0</td>\n",
       "    </tr>\n",
       "    <tr>\n",
       "      <th>2</th>\n",
       "      <td>0</td>\n",
       "      <td>0.957151</td>\n",
       "      <td>40</td>\n",
       "      <td>0</td>\n",
       "      <td>0.121876</td>\n",
       "      <td>2600.0</td>\n",
       "      <td>4</td>\n",
       "      <td>0</td>\n",
       "      <td>0</td>\n",
       "      <td>0</td>\n",
       "      <td>1.0</td>\n",
       "    </tr>\n",
       "    <tr>\n",
       "      <th>3</th>\n",
       "      <td>0</td>\n",
       "      <td>0.658180</td>\n",
       "      <td>38</td>\n",
       "      <td>1</td>\n",
       "      <td>0.085113</td>\n",
       "      <td>3042.0</td>\n",
       "      <td>2</td>\n",
       "      <td>1</td>\n",
       "      <td>0</td>\n",
       "      <td>0</td>\n",
       "      <td>0.0</td>\n",
       "    </tr>\n",
       "    <tr>\n",
       "      <th>4</th>\n",
       "      <td>0</td>\n",
       "      <td>0.233810</td>\n",
       "      <td>30</td>\n",
       "      <td>0</td>\n",
       "      <td>0.036050</td>\n",
       "      <td>3300.0</td>\n",
       "      <td>5</td>\n",
       "      <td>0</td>\n",
       "      <td>0</td>\n",
       "      <td>0</td>\n",
       "      <td>0.0</td>\n",
       "    </tr>\n",
       "    <tr>\n",
       "      <th>5</th>\n",
       "      <td>0</td>\n",
       "      <td>0.907239</td>\n",
       "      <td>49</td>\n",
       "      <td>1</td>\n",
       "      <td>0.024926</td>\n",
       "      <td>63588.0</td>\n",
       "      <td>7</td>\n",
       "      <td>0</td>\n",
       "      <td>1</td>\n",
       "      <td>0</td>\n",
       "      <td>0.0</td>\n",
       "    </tr>\n",
       "  </tbody>\n",
       "</table>\n",
       "</div>"
      ],
      "text/plain": [
       "            SeriousDlqin2yrs  RevolvingUtilizationOfUnsecuredLines  age  \\\n",
       "Unnamed: 0                                                                \n",
       "1                          1                              0.766127   45   \n",
       "2                          0                              0.957151   40   \n",
       "3                          0                              0.658180   38   \n",
       "4                          0                              0.233810   30   \n",
       "5                          0                              0.907239   49   \n",
       "\n",
       "            NumberOfTime30-59DaysPastDueNotWorse  DebtRatio  MonthlyIncome  \\\n",
       "Unnamed: 0                                                                   \n",
       "1                                              2   0.802982         9120.0   \n",
       "2                                              0   0.121876         2600.0   \n",
       "3                                              1   0.085113         3042.0   \n",
       "4                                              0   0.036050         3300.0   \n",
       "5                                              1   0.024926        63588.0   \n",
       "\n",
       "            NumberOfOpenCreditLinesAndLoans  NumberOfTimes90DaysLate  \\\n",
       "Unnamed: 0                                                             \n",
       "1                                        13                        0   \n",
       "2                                         4                        0   \n",
       "3                                         2                        1   \n",
       "4                                         5                        0   \n",
       "5                                         7                        0   \n",
       "\n",
       "            NumberRealEstateLoansOrLines  \\\n",
       "Unnamed: 0                                 \n",
       "1                                      6   \n",
       "2                                      0   \n",
       "3                                      0   \n",
       "4                                      0   \n",
       "5                                      1   \n",
       "\n",
       "            NumberOfTime60-89DaysPastDueNotWorse  NumberOfDependents  \n",
       "Unnamed: 0                                                            \n",
       "1                                              0                 2.0  \n",
       "2                                              0                 1.0  \n",
       "3                                              0                 0.0  \n",
       "4                                              0                 0.0  \n",
       "5                                              0                 0.0  "
      ]
     },
     "execution_count": 6,
     "metadata": {},
     "output_type": "execute_result"
    }
   ],
   "source": [
    "train_data.head()"
   ]
  },
  {
   "cell_type": "markdown",
   "id": "84c600f3-02ee-4052-9a67-90d0b3e70162",
   "metadata": {},
   "source": [
    "### 2.1 查看好坏客户分布"
   ]
  },
  {
   "cell_type": "code",
   "execution_count": 7,
   "id": "327fdfe5-2946-4cdb-b041-3534da669419",
   "metadata": {},
   "outputs": [
    {
     "data": {
      "image/png": "[encoded data removed]",
      "text/plain": [
       "<Figure size 720x360 with 1 Axes>"
      ]
     },
     "metadata": {
      "needs_background": "light"
     },
     "output_type": "display_data"
    },
    {
     "name": "stdout",
     "output_type": "stream",
     "text": [
      "训练集数据中，好客户数量为：139974,坏客户数量为：10026,坏客户所占比例为：6.68%\n",
      "样本标签及其不平衡，后面需要使用balance参数\n"
     ]
    }
   ],
   "source": [
    "\n",
    "fig, ax = plt.subplots(figsize=(10, 5))\n",
    "sns.countplot('SeriousDlqin2yrs', data = train_data)\n",
    "plt.show()\n",
    "bad_num = train_data['SeriousDlqin2yrs'].sum()\n",
    "good_num = train_data['SeriousDlqin2yrs'].count() - bad_num\n",
    "print('训练集数据中，好客户数量为：%i,坏客户数量为：%i,坏客户所占比例为：%.2f%%' %(good_num, bad_num, (bad_num/train_data['SeriousDlqin2yrs'].count())*100))\n",
    "print(\"样本标签及其不平衡，后面需要使用balance参数\")"
   ]
  },
  {
   "cell_type": "markdown",
   "id": "dff9eb63-84c7-47c6-b493-a35ca7c8741b",
   "metadata": {},
   "source": [
    "### 2.2 可用额度比值特征分布"
   ]
  },
  {
   "cell_type": "code",
   "execution_count": 8,
   "id": "069beae0-94a1-49b3-976c-fc86370b17c4",
   "metadata": {},
   "outputs": [
    {
     "name": "stdout",
     "output_type": "stream",
     "text": [
      "RevolvingUtilizationOfUnsecuredLines describe:  count    150000.000000\n",
      "mean          6.048438\n",
      "std         249.755371\n",
      "min           0.000000\n",
      "25%           0.029867\n",
      "50%           0.154181\n",
      "75%           0.559046\n",
      "max       50708.000000\n",
      "Name: RevolvingUtilizationOfUnsecuredLines, dtype: float64\n"
     ]
    }
   ],
   "source": [
    "# f, [ax1, ax2] = plt.subplots(1, 2, figsize=(12, 5))\n",
    "# sns.displot(train_data['RevolvingUtilizationOfUnsecuredLines'], ax=ax1)\n",
    "# sns.boxplot(y='RevolvingUtilizationOfUnsecuredLines', data=train_data, ax=ax2)\n",
    "# plt.show()\n",
    "print(\"RevolvingUtilizationOfUnsecuredLines describe: \", train_data['RevolvingUtilizationOfUnsecuredLines'].describe())"
   ]
  },
  {
   "cell_type": "markdown",
   "id": "12882e22-0184-4fe7-8d1c-a2bd09946d92",
   "metadata": {},
   "source": [
    "### 2.3 年龄分布"
   ]
  },
  {
   "cell_type": "code",
   "execution_count": 9,
   "id": "29d50a1c-f365-438d-ae5a-e54e6d09e2da",
   "metadata": {},
   "outputs": [
    {
     "data": {
      "image/png": "[encoded data removed]",
      "text/plain": [
       "<Figure size 864x360 with 2 Axes>"
      ]
     },
     "metadata": {
      "needs_background": "light"
     },
     "output_type": "display_data"
    },
    {
     "data": {
      "image/png": "[encoded data removed]",
      "text/plain": [
       "<Figure size 360x360 with 1 Axes>"
      ]
     },
     "metadata": {
      "needs_background": "light"
     },
     "output_type": "display_data"
    },
    {
     "name": "stdout",
     "output_type": "stream",
     "text": [
      "age < 18:  1\n",
      "age > 100:  13\n"
     ]
    }
   ],
   "source": [
    "fig, [ax1, ax2] = plt.subplots(1, 2, figsize=(12, 5))\n",
    "sns.displot(train_data['age'], ax=ax1)\n",
    "sns.boxplot(y='age', data=train_data, ax=ax2)\n",
    "plt.show()\n",
    "\n",
    "print(\"age < 18: \", train_data[train_data['age']<18].shape[0])        # 只有1条，而且年龄为0，后面当做异常值删除\n",
    "print(\"age > 100: \", train_data[train_data['age']>100].shape[0])      # 较多且连续，可暂时保留"
   ]
  },
  {
   "cell_type": "markdown",
   "id": "b2a4a2f8-2204-4799-97ea-edb7b2ee65f7",
   "metadata": {},
   "source": [
    "### 2.4 逾期30-59天 | 60-89天 | 90天笔数分布"
   ]
  },
  {
   "cell_type": "code",
   "execution_count": 10,
   "id": "16e6ec19-77a5-4906-b963-6624ead3933b",
   "metadata": {},
   "outputs": [
    {
     "data": {
      "image/png": "[encoded data removed]",
      "text/plain": [
       "<Figure size 1296x864 with 6 Axes>"
      ]
     },
     "metadata": {
      "needs_background": "light"
     },
     "output_type": "display_data"
    },
    {
     "name": "stdout",
     "output_type": "stream",
     "text": [
      "269\n",
      "----------------------\n",
      "269\n",
      "----------------------\n",
      "269\n",
      "----------------------\n"
     ]
    }
   ],
   "source": [
    "f,[[ax1,ax2],[ax3,ax4],[ax5,ax6]] = plt.subplots(3,2,figsize=(18,12))\n",
    "sns.distplot(train_data['NumberOfTime30-59DaysPastDueNotWorse'],ax=ax1)\n",
    "sns.boxplot(y='NumberOfTime30-59DaysPastDueNotWorse',data=train_data,ax=ax2)\n",
    "sns.distplot(train_data['NumberOfTime60-89DaysPastDueNotWorse'],ax=ax3)\n",
    "sns.boxplot(y='NumberOfTime60-89DaysPastDueNotWorse',data=train_data,ax=ax4)\n",
    "sns.distplot(train_data['NumberOfTimes90DaysLate'],ax=ax5)\n",
    "sns.boxplot(y='NumberOfTimes90DaysLate',data=train_data,ax=ax6)\n",
    "plt.show()\n",
    "\n",
    "print(train_data[train_data['NumberOfTime30-59DaysPastDueNotWorse']>13].shape[0])\n",
    "print('----------------------')\n",
    "# 这里可以看出逾期30-59天次数大于13次的有269条，大于80次的也是269条，说明这些是异常值，应该删除\n",
    "print(train_data[train_data['NumberOfTime60-89DaysPastDueNotWorse']>13].shape[0])\n",
    "print('----------------------')\n",
    "# 这里可以看出逾期60-89天次数大于13次的有269条，大于80次的也是269条，说明这些是异常值，应该删除\n",
    "print(train_data[train_data['NumberOfTimes90DaysLate']>17].shape[0])\n",
    "print('----------------------')\n",
    "# 这里可以看出逾期90天以上次数大于17次的有269条，大于80次的也是269条，说明这些是异常值，应该删除"
   ]
  },
  {
   "cell_type": "code",
   "execution_count": null,
   "id": "fa902dbc-87ed-41d5-aa3d-6f94ca364405",
   "metadata": {},
   "outputs": [],
   "source": []
  },
  {
   "cell_type": "markdown",
   "id": "b3df135a-a81b-48f2-b7f4-4c9d3fc8a5b4",
   "metadata": {},
   "source": [
    "### 2.5负债率特征分布"
   ]
  },
  {
   "cell_type": "code",
   "execution_count": 11,
   "id": "2a9747e9-ab71-4533-bb3f-3bbaed601081",
   "metadata": {},
   "outputs": [
    {
     "data": {
      "image/png": "[encoded data removed]",
      "text/plain": [
       "<Figure size 864x360 with 2 Axes>"
      ]
     },
     "metadata": {
      "needs_background": "light"
     },
     "output_type": "display_data"
    },
    {
     "name": "stdout",
     "output_type": "stream",
     "text": [
      "count    150000.000000\n",
      "mean        353.005076\n",
      "std        2037.818523\n",
      "min           0.000000\n",
      "25%           0.175074\n",
      "50%           0.366508\n",
      "75%           0.868254\n",
      "max      329664.000000\n",
      "Name: DebtRatio, dtype: float64\n",
      "----------------------\n",
      "35137\n"
     ]
    }
   ],
   "source": [
    "f,[ax1,ax2] = plt.subplots(1,2,figsize=(12,5))\n",
    "sns.distplot(train_data['DebtRatio'],ax=ax1)\n",
    "sns.boxplot(y='DebtRatio',data=train_data,ax=ax2)\n",
    "plt.show()\n",
    "print(train_data['DebtRatio'].describe())\n",
    "print('----------------------')\n",
    "print(train_data[train_data['DebtRatio']>1].shape[0])\n",
    "#因为大于1的有三万多笔，所以猜测可能不是异常值"
   ]
  },
  {
   "cell_type": "markdown",
   "id": "f3191d3a-a756-47ec-b0b6-84bf5e92ed61",
   "metadata": {},
   "source": [
    "### 2.6信贷数量特征分布"
   ]
  },
  {
   "cell_type": "code",
   "execution_count": 12,
   "id": "2f38d267-e0a8-4723-9034-4bc791c5c5e9",
   "metadata": {},
   "outputs": [
    {
     "data": {
      "image/png": "[encoded data removed]",
      "text/plain": [
       "<Figure size 864x360 with 2 Axes>"
      ]
     },
     "metadata": {
      "needs_background": "light"
     },
     "output_type": "display_data"
    },
    {
     "name": "stdout",
     "output_type": "stream",
     "text": [
      "count    150000.000000\n",
      "mean          8.452760\n",
      "std           5.145951\n",
      "min           0.000000\n",
      "25%           5.000000\n",
      "50%           8.000000\n",
      "75%          11.000000\n",
      "max          58.000000\n",
      "Name: NumberOfOpenCreditLinesAndLoans, dtype: float64\n"
     ]
    }
   ],
   "source": [
    "f,[ax1,ax2] = plt.subplots(1,2,figsize=(12,5))\n",
    "sns.distplot(train_data['NumberOfOpenCreditLinesAndLoans'],ax=ax1)\n",
    "sns.boxplot(y='NumberOfOpenCreditLinesAndLoans',data=train_data,ax=ax2)\n",
    "plt.show()\n",
    "print(train_data['NumberOfOpenCreditLinesAndLoans'].describe())\n",
    "# 由于箱型图的上界值挺连续，所以可能不是异常值"
   ]
  },
  {
   "cell_type": "code",
   "execution_count": null,
   "id": "820d5dc0-9c3f-49f7-bfd3-f9b4febe9aca",
   "metadata": {},
   "outputs": [],
   "source": []
  },
  {
   "cell_type": "markdown",
   "id": "6160597d-bc04-4742-a62e-858fcd09869d",
   "metadata": {},
   "source": [
    "### 2.7固定资产贷款数量"
   ]
  },
  {
   "cell_type": "code",
   "execution_count": 13,
   "id": "4d7061ee-47d0-44ac-b61c-9019e7bd5c17",
   "metadata": {},
   "outputs": [
    {
     "data": {
      "image/png": "[encoded data removed]",
      "text/plain": [
       "<Figure size 864x360 with 2 Axes>"
      ]
     },
     "metadata": {
      "needs_background": "light"
     },
     "output_type": "display_data"
    },
    {
     "name": "stdout",
     "output_type": "stream",
     "text": [
      "count    150000.000000\n",
      "mean          1.018240\n",
      "std           1.129771\n",
      "min           0.000000\n",
      "25%           0.000000\n",
      "50%           1.000000\n",
      "75%           2.000000\n",
      "max          54.000000\n",
      "Name: NumberRealEstateLoansOrLines, dtype: float64\n",
      "----------------------\n",
      "1\n"
     ]
    }
   ],
   "source": [
    "f,[ax1,ax2] = plt.subplots(1,2,figsize=(12,5))\n",
    "sns.distplot(train_data['NumberRealEstateLoansOrLines'],ax=ax1)\n",
    "sns.boxplot(y='NumberRealEstateLoansOrLines',data=train_data,ax=ax2)\n",
    "plt.show()\n",
    "print(train_data['NumberRealEstateLoansOrLines'].describe())\n",
    "# 查看箱型图发现最上方有异常值\n",
    "print('----------------------')\n",
    "print(train_data[train_data['NumberRealEstateLoansOrLines']>32].shape[0])\n",
    "# 固定资产贷款数量大于28的有两个，大于32有一个为54，所以决定把>32的当做异常值剔除"
   ]
  },
  {
   "cell_type": "code",
   "execution_count": null,
   "id": "aff2b30f-506a-43d6-b81f-5f120b01f448",
   "metadata": {},
   "outputs": [],
   "source": []
  },
  {
   "cell_type": "code",
   "execution_count": null,
   "id": "00fcc716-e4e4-43c3-8f53-675e9c3e8cc0",
   "metadata": {},
   "outputs": [],
   "source": []
  },
  {
   "cell_type": "markdown",
   "id": "78559c19-84c0-4325-b628-9a6766232648",
   "metadata": {},
   "source": [
    "### 2.8家属数量分布"
   ]
  },
  {
   "cell_type": "code",
   "execution_count": 14,
   "id": "2438293e-1df2-4d82-ac89-23eddb520483",
   "metadata": {},
   "outputs": [
    {
     "data": {
      "image/png": "[encoded data removed]",
      "text/plain": [
       "<Figure size 864x360 with 2 Axes>"
      ]
     },
     "metadata": {
      "needs_background": "light"
     },
     "output_type": "display_data"
    },
    {
     "name": "stdout",
     "output_type": "stream",
     "text": [
      "count    146076.000000\n",
      "mean          0.757222\n",
      "std           1.115086\n",
      "min           0.000000\n",
      "25%           0.000000\n",
      "50%           0.000000\n",
      "75%           1.000000\n",
      "max          20.000000\n",
      "Name: NumberOfDependents, dtype: float64\n",
      "----------------------\n",
      "1\n",
      "家属数量缺失比例为2.62%\n"
     ]
    }
   ],
   "source": [
    "f,[ax1,ax2] = plt.subplots(1,2,figsize=(12,5))\n",
    "sns.kdeplot(train_data['NumberOfDependents'], ax=ax1)\n",
    "# sns.distplot(train_data['NumberOfDependents'], ax=ax1)\n",
    "sns.boxplot(y='NumberOfDependents',data=train_data, ax=ax2)\n",
    "plt.show()\n",
    "print(train_data['NumberOfDependents'].describe())\n",
    "print('----------------------')\n",
    "print(train_data[train_data['NumberOfDependents']>15].shape[0])\n",
    "# 由箱型图和描述性统计可以看出，20为异常值，可删除\n",
    "\n",
    "# 查看缺失比例\n",
    "x=(train_data['SeriousDlqin2yrs'].count()-train_data['NumberOfDependents'].count())/train_data['SeriousDlqin2yrs'].count()\n",
    "print('家属数量缺失比例为%.2f%%' % (x*100))\n",
    "#缺失比例为2.6%，可直接删除"
   ]
  },
  {
   "cell_type": "code",
   "execution_count": null,
   "id": "404f08f3-f569-4311-bfb3-f18a65fc54bd",
   "metadata": {},
   "outputs": [],
   "source": []
  },
  {
   "cell_type": "markdown",
   "id": "58311af8-51ca-4604-93fa-b72194e46915",
   "metadata": {},
   "source": [
    "### 2.9月收入分布"
   ]
  },
  {
   "cell_type": "code",
   "execution_count": 15,
   "id": "d6012e31-5bd9-4f35-9cd6-9c586682e0dc",
   "metadata": {},
   "outputs": [
    {
     "data": {
      "image/png": "[encoded data removed]",
      "text/plain": [
       "<Figure size 864x360 with 2 Axes>"
      ]
     },
     "metadata": {
      "needs_background": "light"
     },
     "output_type": "display_data"
    },
    {
     "name": "stdout",
     "output_type": "stream",
     "text": [
      "count    1.202690e+05\n",
      "mean     6.670221e+03\n",
      "std      1.438467e+04\n",
      "min      0.000000e+00\n",
      "25%      3.400000e+03\n",
      "50%      5.400000e+03\n",
      "75%      8.249000e+03\n",
      "max      3.008750e+06\n",
      "Name: MonthlyIncome, dtype: float64\n",
      "----------------------\n",
      "1\n",
      "月收入缺失数量比例为19.81%\n"
     ]
    }
   ],
   "source": [
    "f,[ax1,ax2] = plt.subplots(1,2,figsize=(12,5))\n",
    "sns.kdeplot(train_data['MonthlyIncome'],ax=ax1)\n",
    "sns.boxplot(y='MonthlyIncome',data=train_data,ax=ax2)\n",
    "plt.show()\n",
    "print(train_data['MonthlyIncome'].describe())\n",
    "print('----------------------')\n",
    "print(train_data[train_data['MonthlyIncome']>2000000].shape[0])\n",
    "\n",
    "# 查看缺失比例\n",
    "x=(test_data['age'].count()-test_data['MonthlyIncome'].count())/test_data['age'].count()\n",
    "print('月收入缺失数量比例为%.2f%%'%(x*100))\n",
    "# 由于月收入缺失数量过大，后面采用随机森林的方法填充缺失值"
   ]
  },
  {
   "cell_type": "code",
   "execution_count": null,
   "id": "ae606334-111d-41d7-8749-cdd54d78ea17",
   "metadata": {},
   "outputs": [],
   "source": []
  },
  {
   "cell_type": "markdown",
   "id": "09353ec1-9315-4a76-9126-8337daa12f21",
   "metadata": {},
   "source": [
    "# 3.数据预处理"
   ]
  },
  {
   "cell_type": "markdown",
   "id": "66995892-42fd-4aed-9ad4-8ddbbd25b7ea",
   "metadata": {},
   "source": [
    "## 3.1 异常值处理"
   ]
  },
  {
   "cell_type": "code",
   "execution_count": 16,
   "id": "a2d46d66-ed4d-4310-b9b6-afb610072651",
   "metadata": {},
   "outputs": [
    {
     "name": "stdout",
     "output_type": "stream",
     "text": [
      "(146391, 11)\n",
      "----------------------\n",
      "(99096, 11)\n"
     ]
    }
   ],
   "source": [
    "def strange_delete(data):\n",
    "    data=data[data['RevolvingUtilizationOfUnsecuredLines']<1]\n",
    "    data=data[data['age']>18]\n",
    "    data=data[data['NumberOfTime30-59DaysPastDueNotWorse']<80]\n",
    "    data=data[data['NumberOfTime60-89DaysPastDueNotWorse']<80]\n",
    "    data=data[data['NumberOfTimes90DaysLate']<80]\n",
    "    data=data[data['NumberRealEstateLoansOrLines']<50]\n",
    "    return data\n",
    "    \n",
    "train_data=strange_delete(train_data)\n",
    "test_data=strange_delete(test_data)\n",
    "\n",
    "#查看经过异常值处理后是否还存在异常值\n",
    "train_data.loc[(train_data['RevolvingUtilizationOfUnsecuredLines']>1)|(train_data['age']<18)|(train_data['NumberOfTime30-59DaysPastDueNotWorse']>80)|(train_data['NumberOfTime60-89DaysPastDueNotWorse']>80)|(train_data['NumberOfTimes90DaysLate']>80)|(train_data['NumberRealEstateLoansOrLines']>50)]\n",
    "test_data.loc[(test_data['RevolvingUtilizationOfUnsecuredLines']>1)|(test_data['age']<18)|(test_data['NumberOfTime30-59DaysPastDueNotWorse']>80)|(test_data['NumberOfTime60-89DaysPastDueNotWorse']>80)|(test_data['NumberOfTimes90DaysLate']>80)|(test_data['NumberRealEstateLoansOrLines']>50)]\n",
    "print(train_data.shape)\n",
    "print('----------------------')\n",
    "print(test_data.shape)"
   ]
  },
  {
   "cell_type": "markdown",
   "id": "5c8a89ee-9dd4-4208-bbb1-de8265941367",
   "metadata": {},
   "source": [
    "## 3.2缺失值处理"
   ]
  },
  {
   "cell_type": "code",
   "execution_count": 17,
   "id": "6b64951b-0a9b-4a17-808f-df8964c80aec",
   "metadata": {},
   "outputs": [
    {
     "name": "stdout",
     "output_type": "stream",
     "text": [
      "(142559, 11)\n",
      "----------------------\n",
      "(96535, 11)\n"
     ]
    }
   ],
   "source": [
    "# 对家属数量的缺失值进行删除\n",
    "train_data=train_data[train_data['NumberOfDependents'].notnull()]\n",
    "print(train_data.shape)\n",
    "print('----------------------')\n",
    "test_data=test_data[test_data['NumberOfDependents'].notnull()]\n",
    "print(test_data.shape)"
   ]
  },
  {
   "cell_type": "code",
   "execution_count": null,
   "id": "a0acdd6d-4f92-49ce-9704-eac173d60499",
   "metadata": {},
   "outputs": [],
   "source": []
  },
  {
   "cell_type": "code",
   "execution_count": 18,
   "id": "f38111b7-5f70-406d-bcbf-8b4bb92664c5",
   "metadata": {},
   "outputs": [],
   "source": [
    "# 对月收入缺失值用随机森林的方法进行填充--训练集\n",
    "# 创建随机森林函数\n",
    "def fillmonthlyincome(data):\n",
    "    known = data[data['MonthlyIncome'].notnull()]\n",
    "    unknown = data[data['MonthlyIncome'].isnull()]\n",
    "    # 获取除0和5的特征值\n",
    "    x_train = known.iloc[:, [1,2,3,4,6,7,8,9,10]]\n",
    "    y_train = known.iloc[:, 5]\n",
    "    x_test = unknown.iloc[:, [1,2,3,4,6,7,8,9,10]]\n",
    "    rfr = RandomForestRegressor(random_state=0,n_estimators=200,max_depth=3,n_jobs=-1)\n",
    "    pred_y = rfr.fit(x_train,y_train).predict(x_test)\n",
    "    return pred_y\n",
    "#用随机森林填充训练集缺失值\n",
    "predict_data=fillmonthlyincome(train_data)\n",
    "train_data.loc[train_data['MonthlyIncome'].isnull(),'MonthlyIncome']=predict_data"
   ]
  },
  {
   "cell_type": "code",
   "execution_count": 19,
   "id": "67c6d32f-c879-4e4a-873e-96e222b8e87b",
   "metadata": {},
   "outputs": [
    {
     "name": "stdout",
     "output_type": "stream",
     "text": [
      "<class 'pandas.core.frame.DataFrame'>\n",
      "Int64Index: 96535 entries, 1 to 101503\n",
      "Data columns (total 11 columns):\n",
      " #   Column                                Non-Null Count  Dtype  \n",
      "---  ------                                --------------  -----  \n",
      " 0   SeriousDlqin2yrs                      0 non-null      float64\n",
      " 1   RevolvingUtilizationOfUnsecuredLines  96535 non-null  float64\n",
      " 2   age                                   96535 non-null  int64  \n",
      " 3   NumberOfTime30-59DaysPastDueNotWorse  96535 non-null  int64  \n",
      " 4   DebtRatio                             96535 non-null  float64\n",
      " 5   MonthlyIncome                         96535 non-null  float64\n",
      " 6   NumberOfOpenCreditLinesAndLoans       96535 non-null  int64  \n",
      " 7   NumberOfTimes90DaysLate               96535 non-null  int64  \n",
      " 8   NumberRealEstateLoansOrLines          96535 non-null  int64  \n",
      " 9   NumberOfTime60-89DaysPastDueNotWorse  96535 non-null  int64  \n",
      " 10  NumberOfDependents                    96535 non-null  float64\n",
      "dtypes: float64(5), int64(6)\n",
      "memory usage: 8.8 MB\n",
      "None\n"
     ]
    }
   ],
   "source": [
    "# 对月收入缺失值用随机森林的方法进行填充--测试集\n",
    "# 创建随机森林函数\n",
    "def fillmonthlyincome(data):\n",
    "    known = data[data['MonthlyIncome'].notnull()]\n",
    "    unknown = data[data['MonthlyIncome'].isnull()]\n",
    "    x_train = known.iloc[:,[2,3,4,6,7,8,9,10]]\n",
    "    y_train = known.iloc[:,5]\n",
    "    x_test = unknown.iloc[:,[2,3,4,6,7,8,9,10]]\n",
    "    rfr = RandomForestRegressor(random_state=0,n_estimators=200,max_depth=3,n_jobs=-1)\n",
    "    pred_y = rfr.fit(x_train,y_train).predict(x_test)\n",
    "    return pred_y\n",
    "# 用随机森林填充测试集缺失值\n",
    "predict_data=fillmonthlyincome(test_data)\n",
    "test_data.loc[test_data['MonthlyIncome'].isnull(),'MonthlyIncome']=predict_data\n",
    "print(test_data.info())"
   ]
  },
  {
   "cell_type": "code",
   "execution_count": 20,
   "id": "e7fd4b5a-2eea-409e-bcc0-59b6044a6765",
   "metadata": {},
   "outputs": [
    {
     "name": "stdout",
     "output_type": "stream",
     "text": [
      "SeriousDlqin2yrs                        0\n",
      "RevolvingUtilizationOfUnsecuredLines    0\n",
      "age                                     0\n",
      "NumberOfTime30-59DaysPastDueNotWorse    0\n",
      "DebtRatio                               0\n",
      "MonthlyIncome                           0\n",
      "NumberOfOpenCreditLinesAndLoans         0\n",
      "NumberOfTimes90DaysLate                 0\n",
      "NumberRealEstateLoansOrLines            0\n",
      "NumberOfTime60-89DaysPastDueNotWorse    0\n",
      "NumberOfDependents                      0\n",
      "dtype: int64\n",
      "----------------------\n",
      "SeriousDlqin2yrs                        96535\n",
      "RevolvingUtilizationOfUnsecuredLines        0\n",
      "age                                         0\n",
      "NumberOfTime30-59DaysPastDueNotWorse        0\n",
      "DebtRatio                                   0\n",
      "MonthlyIncome                               0\n",
      "NumberOfOpenCreditLinesAndLoans             0\n",
      "NumberOfTimes90DaysLate                     0\n",
      "NumberRealEstateLoansOrLines                0\n",
      "NumberOfTime60-89DaysPastDueNotWorse        0\n",
      "NumberOfDependents                          0\n",
      "dtype: int64\n"
     ]
    }
   ],
   "source": [
    "# 缺失值和异常值处理完后进行检查\n",
    "print(train_data.isnull().sum())\n",
    "print('----------------------')\n",
    "print(test_data.isnull().sum())"
   ]
  },
  {
   "cell_type": "code",
   "execution_count": null,
   "id": "b30d6f53-6c67-44a2-81d3-3ec4ef32eb44",
   "metadata": {},
   "outputs": [],
   "source": []
  },
  {
   "cell_type": "markdown",
   "id": "1d5f10e0-e731-43ad-af11-d31a4bdc9cb8",
   "metadata": {},
   "source": [
    "## 3.3 特征工程——特征共线性"
   ]
  },
  {
   "cell_type": "code",
   "execution_count": 21,
   "id": "cc3b7852-b73e-4bf6-814a-c0ca9e58fec8",
   "metadata": {},
   "outputs": [],
   "source": [
    "# 1、特征间共线性：两个或多个特征包含了相似的信息，期间存在强烈的相关关系 \n",
    "# 2、常用判断标准：两个或两个以上的特征间的相关性系数高于0.8 \n",
    "# 3、共线性的影响： \n",
    "# 1）降低运算效率 \n",
    "# 2）降低一些模型的稳定性 \n",
    "# 3）弱化一些模型的预测能力\n",
    "# 4、查看共线性的方式：建立共线性表格或热力图\n",
    "# 5、处理方式：删除或变换"
   ]
  },
  {
   "cell_type": "code",
   "execution_count": 22,
   "id": "1d5f0157-3c5c-4536-8f18-8023fdc4aabc",
   "metadata": {},
   "outputs": [
    {
     "data": {
      "text/plain": [
       "<AxesSubplot:>"
      ]
     },
     "execution_count": 22,
     "metadata": {},
     "output_type": "execute_result"
    },
    {
     "data": {
      "image/png": "[encoded data removed]",
      "text/plain": [
       "<Figure size 432x288 with 2 Axes>"
      ]
     },
     "metadata": {
      "needs_background": "light"
     },
     "output_type": "display_data"
    }
   ],
   "source": [
    "# 可以看到各个变量间的相关性都不大，所以无需剔除变量\n",
    "correlation_table = train_data.corr()\n",
    "sns.heatmap(correlation_table)"
   ]
  },
  {
   "cell_type": "code",
   "execution_count": null,
   "id": "49dbbf3c-e34a-49b2-be07-1fad8751be6d",
   "metadata": {},
   "outputs": [],
   "source": []
  },
  {
   "cell_type": "markdown",
   "id": "62b59a01-cc1f-47a5-96da-39ab70b9ccfb",
   "metadata": {},
   "source": [
    "# 4.特征选择"
   ]
  },
  {
   "cell_type": "code",
   "execution_count": 23,
   "id": "5e2a2c65-92de-4ec5-a4ce-c95786e2990c",
   "metadata": {},
   "outputs": [],
   "source": [
    "# 变量分为连续变量和分类变量。\n",
    "# 在评分卡建模中，变量分箱（binning）是对连续变量离散化（discretization）的一种称呼。\n",
    "# 要将logistic模型转换为标准评分卡的形式，这一环节是必须完成的。信用评分卡开发中一般有常用的等距分段、等深分段、最优分段。\n",
    "\n",
    "# 单因子分析，用来检测各变量的预测强度，方法为WOE、IV\n",
    "# 这里使用IV值进行特征选择并且使用WOE对数据进行分箱。\n",
    "# WOE的全称是“Weight of Evidence”，即证据权重，WOE是对原始自变量的一种编码形式\n",
    "# IV的全称是Information Value，中文意思是信息价值，或者信息量；用来衡量自变量的预测能力；类似的指标还有信息增益、基尼系数等等。"
   ]
  },
  {
   "cell_type": "markdown",
   "id": "3fc65b00-a06b-468f-91f4-5051f39ecb6b",
   "metadata": {},
   "source": [
    "## 4.1 分箱"
   ]
  },
  {
   "cell_type": "code",
   "execution_count": null,
   "id": "fa01c9d6-163c-48a3-a231-fbd3d4993b99",
   "metadata": {},
   "outputs": [],
   "source": []
  },
  {
   "cell_type": "code",
   "execution_count": 24,
   "id": "dddbda48-b8ed-49ab-bf76-836321f941ec",
   "metadata": {},
   "outputs": [],
   "source": [
    "# 连续性变量--- 定义自动分箱函数---最优分箱\n",
    "# Y: target 变量\n",
    "# X: 待分箱变量\n",
    "# bin: 分箱数量\n",
    "def mono_bin(Y, X, bin_cnt=10):\n",
    "    r = 0                                # 设定斯皮尔曼 初始值\n",
    "    bad_num = Y.sum()                    # 计算坏样本数\n",
    "    good_num = Y.count() - bad_num       # 计算好样本数\n",
    "    # 下面这段就是分箱的核心 ，就是机器来选择指定最优的分箱节点，代替我们自己来设置\n",
    "    while np.abs(r) < 1:\n",
    "        # 用pd.qcut实现最优分箱，Bucket：将X分为n段，n由斯皮尔曼系数决定  \n",
    "        cut_df = pd.DataFrame({'X': X, 'Y': Y, 'Bucket': pd.qcut(X, bin_cnt)})\n",
    "        # 按照分箱结果进行分组聚合\n",
    "        g_df = cut_df.groupby('Bucket', as_index=True)\n",
    "        # 以斯皮尔曼系数作为分箱终止条件\n",
    "        r, p = stats.spearmanr(g_df.mean().X, g_df.mean().Y)\n",
    "        bin_cnt = bin_cnt - 1\n",
    "        print(\"r=\", r, \", p=\", p)\n",
    "        \n",
    "    # 构造统计数据df\n",
    "    df = pd.DataFrame(g_df.X.min(), columns=['min']) # 箱体的左边界\n",
    "    df['min'] = g_df.min().X\n",
    "    df['max'] = g_df.X.max()                         # 箱体的右边界\n",
    "    df['bad'] = g_df.sum().Y                         # 每个箱体中坏样本的数量\n",
    "    df['total'] = g_df.count().Y                     # 每个箱体的总样本数\n",
    "    df['rate'] = g_df.mean().Y                       # 每个箱体中坏样本的平均值\n",
    "    df['woe'] = np.log((df['bad']/bad_num) / ((df['total'] - df['bad'])/good_num))   # 计算每个箱体的woe值\n",
    "    df['bad_attr'] = df['bad']/bad_num                                               # 每个箱体中坏样本所占坏样本总数的比例\n",
    "    df['good_attr'] = (df['total'] - df['bad'])/good_num                             # 每个箱体中好样本所占好样本总数的比例\n",
    "    iv = ((df['bad_attr'] - df['good_attr']) * df['woe']).sum()                      # 计算变量的iv值\n",
    "    print(df)\n",
    "    print(\"==========================================================\")\n",
    "    desc_df = (df.sort_values(by='min', ascending=False)).reset_index(drop=True)                        # 对箱体从大到小进行排序\n",
    "    print(desc_df)\n",
    "    print(\"iv: \", iv)\n",
    "    woe_list = list(desc_df['woe'].round(3))\n",
    "    cut_list = [float('-inf')]                        # cut 存放箱段节点, 在列表前加-inf\n",
    "    for i in range(1, bin_cnt+1):\n",
    "        qua = X.quantile(i/(bin_cnt+1))               # quantile 分为数  得到分箱的节点\n",
    "        cut_list.append(round(qua, 4))\n",
    "    cut_list.append(float('inf'))\n",
    "    \n",
    "    return desc_df, iv, cut_list, woe_list\n",
    "        \n",
    "    \n",
    "# 离散型变量-手动分箱\n",
    "def scatter_bin(Y, X, bin_cnt=10):\n",
    "    bad_num = Y.sum()                                 # 坏用户数量\n",
    "    good_num = Y.count() - bad_num                    # 好用户数量\n",
    "    cut_df = pd.DataFrame({'X': X, 'Y': Y, 'Bucket': pd.cut(X, bin_cnt)})\n",
    "    g_df = cut_df.groupby('Bucket', as_index=True)\n",
    "    \n",
    "    # 构造统计数据df\n",
    "    df = pd.DataFrame(g_df.X.min(), columns=['min'])\n",
    "    df['min'] = g_df.min().X\n",
    "    df['max'] = g_df.max().X\n",
    "    df['bad'] = g_df.sum().Y\n",
    "    df['total'] = g_df.count().Y\n",
    "    df['rate'] = g_df.mean().Y\n",
    "    df['woe'] = np.log((df['bad']/bad_num)/((df['total'] - df['bad'])/good_num))\n",
    "    df['bad_attr'] = df['bad']/bad_num                                               # 每个箱体中坏样本所占坏样本总数的比例\n",
    "    df['good_attr'] = (df['total'] - df['bad'])/good_num                             # 每个箱体中好样本所占好样本总数的比例\n",
    "    iv = ((df['bad_attr'] - df['good_attr']) * df['woe']).sum()                      # 计算变量的iv值\n",
    "    \n",
    "    desc_df = (df.sort_values(by='min', ascending=False)).reset_index(drop=True)                        # 对箱体从大到小进行排序\n",
    "    print(desc_df)\n",
    "    print(\"iv: \", iv)\n",
    "    woe_list = list(desc_df['woe'].round(3))\n",
    "    \n",
    "    return desc_df, iv, woe_list\n",
    "    \n",
    "    \n"
   ]
  },
  {
   "cell_type": "code",
   "execution_count": 25,
   "id": "5b65cb7a-e21c-44a9-885e-f7adda1fb6ae",
   "metadata": {},
   "outputs": [
    {
     "name": "stdout",
     "output_type": "stream",
     "text": [
      "r= 0.8787878787878788 , p= 0.0008138621117322101\n",
      "r= 0.9 , p= 0.0009430623223403293\n",
      "r= 0.9285714285714287 , p= 0.0008629681828999769\n",
      "r= 0.8928571428571429 , p= 0.006807187408935392\n",
      "r= 0.942857142857143 , p= 0.004804664723032055\n",
      "r= 0.8999999999999998 , p= 0.03738607346849875\n",
      "r= 1.0 , p= 0.0\n",
      "                       min       max   bad  total      rate       woe  \\\n",
      "Bucket                                                                  \n",
      "(-0.001, 0.0295]  0.000000  0.029534   665  35640  0.018659 -1.203637   \n",
      "(0.0295, 0.148]   0.029534  0.148034   711  35640  0.019949 -1.135436   \n",
      "(0.148, 0.521]    0.148035  0.521146  1680  35639  0.047139 -0.247395   \n",
      "(0.521, 1.0]      0.521148  1.000000  5438  35640  0.152581  1.044468   \n",
      "\n",
      "                  bad_attr  good_attr  \n",
      "Bucket                                 \n",
      "(-0.001, 0.0295]  0.078291   0.260881  \n",
      "(0.0295, 0.148]   0.083706   0.260538  \n",
      "(0.148, 0.521]    0.197787   0.253303  \n",
      "(0.521, 1.0]      0.640217   0.225279  \n",
      "==========================================================\n",
      "        min       max   bad  total      rate       woe  bad_attr  good_attr\n",
      "0  0.521148  1.000000  5438  35640  0.152581  1.044468  0.640217   0.225279\n",
      "1  0.148035  0.521146  1680  35639  0.047139 -0.247395  0.197787   0.253303\n",
      "2  0.029534  0.148034   711  35640  0.019949 -1.135436  0.083706   0.260538\n",
      "3  0.000000  0.029534   665  35640  0.018659 -1.203637  0.078291   0.260881\n",
      "iv:  0.8676770888464423\n",
      "r= -0.9999999999999999 , p= 6.646897422032013e-64\n",
      "r= -1.0 , p= 0.0\n",
      "                min  max   bad  total      rate       woe  bad_attr  good_attr\n",
      "Bucket                                                                        \n",
      "(20.999, 34.0]   21   34  1705  17700  0.096328  0.520254  0.200730   0.119308\n",
      "(34.0, 40.0]     35   40  1226  15101  0.081187  0.332633  0.144337   0.103495\n",
      "(40.0, 45.0]     41   45  1183  15595  0.075858  0.258957  0.139275   0.107500\n",
      "(45.0, 50.0]     46   50  1324  18118  0.073076  0.218601  0.155875   0.125268\n",
      "(50.0, 54.0]     51   54   914  13848  0.066002  0.109181  0.107605   0.096476\n",
      "(54.0, 59.0]     55   59   822  16443  0.049991 -0.185666  0.096774   0.116518\n",
      "(59.0, 64.0]     60   64   619  16446  0.037638 -0.482403  0.072875   0.118055\n",
      "(64.0, 71.0]     65   71   376  14528  0.025881 -0.869057  0.044267   0.105561\n",
      "(71.0, 107.0]    72  107   325  14780  0.021989 -1.036006  0.038262   0.107821\n",
      "==========================================================\n",
      "   min  max   bad  total      rate       woe  bad_attr  good_attr\n",
      "0   72  107   325  14780  0.021989 -1.036006  0.038262   0.107821\n",
      "1   65   71   376  14528  0.025881 -0.869057  0.044267   0.105561\n",
      "2   60   64   619  16446  0.037638 -0.482403  0.072875   0.118055\n",
      "3   55   59   822  16443  0.049991 -0.185666  0.096774   0.116518\n",
      "4   51   54   914  13848  0.066002  0.109181  0.107605   0.096476\n",
      "5   46   50  1324  18118  0.073076  0.218601  0.155875   0.125268\n",
      "6   41   45  1183  15595  0.075858  0.258957  0.139275   0.107500\n",
      "7   35   40  1226  15101  0.081187  0.332633  0.144337   0.103495\n",
      "8   21   34  1705  17700  0.096328  0.520254  0.200730   0.119308\n",
      "iv:  0.22287172438505867\n",
      "r= 0.406060606060606 , p= 0.24428229408662638\n",
      "r= 0.21666666666666667 , p= 0.5755148957119259\n",
      "r= 0.261904761904762 , p= 0.530922861565801\n",
      "r= 0.42857142857142866 , p= 0.337368311085824\n",
      "r= 0.14285714285714288 , p= 0.7871720116618075\n",
      "r= 0.6 , p= 0.28475697986529375\n",
      "r= 0.6000000000000001 , p= 0.3999999999999999\n",
      "r= 1.0 , p= 0.0\n",
      "                        min            max   bad  total      rate       woe  \\\n",
      "Bucket                                                                        \n",
      "(-0.001, 0.234]    0.000000       0.234363  2455  47520  0.051662 -0.151014   \n",
      "(0.234, 0.542]     0.234363       0.542234  2654  47519  0.055851 -0.068625   \n",
      "(0.542, 329664.0]  0.542247  329664.000000  3385  47520  0.071233  0.191066   \n",
      "\n",
      "                   bad_attr  good_attr  \n",
      "Bucket                                  \n",
      "(-0.001, 0.234]    0.289028   0.336143  \n",
      "(0.234, 0.542]     0.312456   0.334651  \n",
      "(0.542, 329664.0]  0.398517   0.329206  \n",
      "==========================================================\n",
      "        min            max   bad  total      rate       woe  bad_attr  \\\n",
      "0  0.542247  329664.000000  3385  47520  0.071233  0.191066  0.398517   \n",
      "1  0.234363       0.542234  2654  47519  0.055851 -0.068625  0.312456   \n",
      "2  0.000000       0.234363  2455  47520  0.051662 -0.151014  0.289028   \n",
      "\n",
      "   good_attr  \n",
      "0   0.329206  \n",
      "1   0.334651  \n",
      "2   0.336143  \n",
      "iv:  0.021881124059572033\n",
      "r= -0.709090909090909 , p= 0.021665923367532435\n",
      "r= -0.75 , p= 0.019942126131992522\n",
      "r= -0.8095238095238096 , p= 0.014902667686230067\n",
      "r= -0.7857142857142859 , p= 0.03623846267982714\n",
      "r= -0.6571428571428573 , p= 0.15617492711370237\n",
      "r= -0.7 , p= 0.18812040437418728\n",
      "r= -0.7999999999999999 , p= 0.20000000000000007\n",
      "r= -1.0 , p= 0.0\n",
      "                        min        max   bad  total      rate       woe  \\\n",
      "Bucket                                                                    \n",
      "(-0.001, 3416.0]        0.0     3416.0  3260  47532  0.068585  0.150339   \n",
      "(3416.0, 6900.0]     3417.0     6900.0  3089  47597  0.064899  0.091143   \n",
      "(6900.0, 3008750.0]  6901.0  3008750.0  2145  47430  0.045225 -0.290872   \n",
      "\n",
      "                     bad_attr  good_attr  \n",
      "Bucket                                    \n",
      "(-0.001, 3416.0]     0.383800   0.330228  \n",
      "(3416.0, 6900.0]     0.363668   0.331988  \n",
      "(6900.0, 3008750.0]  0.252531   0.337784  \n",
      "==========================================================\n",
      "      min        max   bad  total      rate       woe  bad_attr  good_attr\n",
      "0  6901.0  3008750.0  2145  47430  0.045225 -0.290872  0.252531   0.337784\n",
      "1  3417.0     6900.0  3089  47597  0.064899  0.091143  0.363668   0.331988\n",
      "2     0.0     3416.0  3260  47532  0.068585  0.150339  0.383800   0.330228\n",
      "iv:  0.035739086343805085\n"
     ]
    }
   ],
   "source": [
    "x1_d,x1_iv,cutx1_list,woex1_list = mono_bin(train_data['SeriousDlqin2yrs'],train_data.RevolvingUtilizationOfUnsecuredLines)\n",
    "x2_d,x2_iv,cutx2_list,woex2_list = mono_bin(train_data['SeriousDlqin2yrs'],train_data.age) \n",
    "x4_d,x4_iv,cutx4_list,woex4_list = mono_bin(train_data['SeriousDlqin2yrs'],train_data.DebtRatio) \n",
    "x5_d,x5_iv,cutx5_list,woex5_list = mono_bin(train_data['SeriousDlqin2yrs'],train_data.MonthlyIncome)"
   ]
  },
  {
   "cell_type": "code",
   "execution_count": 26,
   "id": "8b2b5ed9-1db5-4726-8fa8-d93fdb07cc2a",
   "metadata": {},
   "outputs": [
    {
     "name": "stdout",
     "output_type": "stream",
     "text": [
      "   min  max   bad   total      rate       woe  bad_attr  good_attr\n",
      "0    6   13    91     195  0.466667  2.625433  0.010713   0.000776\n",
      "1    4    5   367     913  0.401972  2.361708  0.043207   0.004073\n",
      "2    2    3  1449    5620  0.257829  1.701683  0.170591   0.031112\n",
      "3    1    1  2010   14913  0.134782  0.899640  0.236638   0.096244\n",
      "4    0    0  4577  120918  0.037852 -0.476517  0.538851   0.867795\n",
      "iv:  0.6389149816700715\n",
      "   min  max   bad   total      rate       woe  bad_attr  good_attr\n",
      "0    6   57  5377  100070  0.053732 -0.109545  0.633035   0.706322\n",
      "1    4    5  1242   22890  0.054260 -0.099225  0.146221   0.161474\n",
      "2    3    3   553    8229  0.067201  0.128469  0.065105   0.057256\n",
      "3    2    2   493    5947  0.082899  0.355369  0.058041   0.040682\n",
      "4    0    1   829    5423  0.152867  1.046678  0.097598   0.034267\n",
      "iv:  0.08300647514472649\n",
      "   min  max   bad   total      rate       woe  bad_attr  good_attr\n",
      "0    6   17    86     136  0.632353  3.301289  0.010125   0.000373\n",
      "1    4    5   205     327  0.626911  3.277954  0.024135   0.000910\n",
      "2    2    3   908    1810  0.501657  2.765595  0.106899   0.006728\n",
      "3    1    1  1472    4647  0.316764  1.990279  0.173299   0.023683\n",
      "4    0    0  5823  135639  0.042930 -0.345338  0.685543   0.968306\n",
      "iv:  0.7807822632057063\n",
      "   min  max   bad  total      rate       woe  bad_attr  good_attr\n",
      "0    4   32   391   3562  0.109770  0.665870  0.046032   0.023653\n",
      "1    3    3   392   6151  0.063729  0.071707  0.046150   0.042957\n",
      "2    2    2  1599  30703  0.052080 -0.142532  0.188251   0.217089\n",
      "3    1    1  2398  50311  0.047664 -0.235787  0.282317   0.357386\n",
      "4    0    0  3714  51832  0.071655  0.197418  0.437250   0.358915\n",
      "iv:  0.05240640474003486\n",
      "   min  max   bad   total      rate       woe  bad_attr  good_attr\n",
      "0    4   11    70     126  0.555556  2.982108  0.008241   0.000418\n",
      "1    2    3   546    1121  0.487065  2.707214  0.064281   0.004289\n",
      "2    1    1  1439    5080  0.283268  1.830655  0.169414   0.027158\n",
      "3    0    0  6439  136232  0.047265 -0.244603  0.758065   0.968135\n",
      "iv:  0.49754464150259303\n",
      "   min   max   bad  total      rate       woe  bad_attr  good_attr\n",
      "0  6.0  20.0    27    239  0.112971  0.698215  0.003179   0.001581\n",
      "1  4.0   5.0   305   3483  0.087568  0.415269  0.035908   0.023705\n",
      "2  3.0   3.0   735   9220  0.079718  0.312780  0.086532   0.063290\n",
      "3  2.0   2.0  1360  18979  0.071658  0.197472  0.160113   0.131421\n",
      "4  1.0   1.0  1675  25652  0.065297  0.097683  0.197198   0.178846\n",
      "5  0.0   0.0  4392  84986  0.051679 -0.150675  0.517071   0.601156\n",
      "iv:  0.033580225903910396\n"
     ]
    }
   ],
   "source": [
    "ninf = float('-inf')#负无穷大\n",
    "pinf = float('inf')#正无穷大\n",
    "cutx3_list = [ninf, 0, 1, 3, 5, pinf]\n",
    "cutx6_list = [ninf, 1, 2, 3, 5, pinf]\n",
    "cutx7_list = [ninf, 0, 1, 3, 5, pinf]\n",
    "cutx8_list = [ninf, 0,1,2, 3, pinf]\n",
    "cutx9_list = [ninf, 0, 1, 3, pinf]\n",
    "cutx10_list = [ninf, 0, 1, 2, 3, 5, pinf]\n",
    "x3_df, ivx3, woex3_list = scatter_bin(train_data.SeriousDlqin2yrs,train_data['NumberOfTime30-59DaysPastDueNotWorse'], cutx3_list)\n",
    "x6_df, ivx6, woex6_list= scatter_bin(train_data.SeriousDlqin2yrs, train_data['NumberOfOpenCreditLinesAndLoans'], cutx6_list)\n",
    "x7_df, ivx7, woex7_list = scatter_bin(train_data.SeriousDlqin2yrs, train_data['NumberOfTimes90DaysLate'], cutx7_list)\n",
    "x8_df, ivx8, woex8_list = scatter_bin(train_data.SeriousDlqin2yrs, train_data['NumberRealEstateLoansOrLines'], cutx8_list)\n",
    "x9_df, ivx9, woex9_list = scatter_bin(train_data.SeriousDlqin2yrs, train_data['NumberOfTime60-89DaysPastDueNotWorse'], cutx9_list)\n",
    "x1_df, ivx10, woex10_list = scatter_bin(train_data.SeriousDlqin2yrs, train_data['NumberOfDependents'], cutx10_list)"
   ]
  },
  {
   "cell_type": "markdown",
   "id": "e56da553-098b-4e8c-8cce-8025dc3b15b6",
   "metadata": {},
   "source": [
    "## 4.2.1特征选择---相关系数矩阵"
   ]
  },
  {
   "cell_type": "code",
   "execution_count": null,
   "id": "d5bc86a2-8e76-43ca-bd8d-752b621a66b3",
   "metadata": {},
   "outputs": [],
   "source": [
    "# 三大相关系数:\n",
    "## 皮尔森相关系数\n",
    "### 两个变量之间是线性关系，且都是连续数据\n",
    "### 两个变量的总体是正太分布，或者接近正太的单峰分布\n",
    "### 两个变量的观测值是成对的，且每对观测值之间是相互独立的\n",
    "\n",
    "## 斯皮尔曼等级相关系数\n",
    "### 可使用非正太的数据: 将数值的排序转化为等级的排序\n",
    "\n",
    "## 肯德尔等级相关系数\n",
    "### "
   ]
  },
  {
   "cell_type": "code",
   "execution_count": null,
   "id": "15680641-dd03-4bed-b420-04cc4705aa2b",
   "metadata": {},
   "outputs": [],
   "source": []
  },
  {
   "cell_type": "code",
   "execution_count": 27,
   "id": "99ac7646-beca-40b0-9683-b2608e04a56a",
   "metadata": {},
   "outputs": [
    {
     "data": {
      "image/png": "[encoded data removed]",
      "text/plain": [
       "<Figure size 720x576 with 2 Axes>"
      ]
     },
     "metadata": {
      "needs_background": "light"
     },
     "output_type": "display_data"
    }
   ],
   "source": [
    "corr = train_data.corr()#计算各变量的相关性系数\n",
    "xticks = ['x0','x1','x2','x3','x4','x5','x6','x7','x8','x9','x10']#x轴标签\n",
    "yticks = list(corr.index)#y轴标签\n",
    "fig = plt.figure(figsize=(10,8))\n",
    "ax1 = fig.add_subplot(1, 1, 1)\n",
    "sns.heatmap(corr, annot=True, cmap='rainbow', ax=ax1, annot_kws={'size': 12, 'weight': 'bold', 'color': 'black'})#绘制相关性系数热力图\n",
    "ax1.set_xticklabels(xticks, rotation=0, fontsize=14)\n",
    "ax1.set_yticklabels(yticks, rotation=0, fontsize=14)\n",
    "plt.show()\n",
    "\n",
    "# RevolvingUtilizationOfUnsecuredLines、\n",
    "# NumberOfTime30-59DaysPastDueNotWorse、\n",
    "# NumberOfTimes90DaysLate\n",
    "# NumberOfTime60-89DaysPastDueNotWorse\n",
    "# 四个特征对于我们所要预测的值SeriousDlqin2yrs(因变量)有较强的相关性"
   ]
  },
  {
   "cell_type": "markdown",
   "id": "924c604c-76ed-48f6-bbee-785703382383",
   "metadata": {},
   "source": [
    "## 4.2.2 IV值筛选"
   ]
  },
  {
   "cell_type": "code",
   "execution_count": 28,
   "id": "e2cead16-c12f-45c8-a967-1d5e0f7aac5a",
   "metadata": {},
   "outputs": [
    {
     "data": {
      "image/png": "[encoded data removed]",
      "text/plain": [
       "<Figure size 576x360 with 1 Axes>"
      ]
     },
     "metadata": {
      "needs_background": "light"
     },
     "output_type": "display_data"
    }
   ],
   "source": [
    "# 通过IV值判断变量预测能力的标准是:\n",
    "# 小于 0.02: unpredictive\n",
    "# 0.02 to 0.1: weak\n",
    "# 0.1 to 0.3: medium\n",
    "# 0.3 to 0.5: strong\n",
    "iv_list = [x1_iv,x2_iv,ivx3,x4_iv,x5_iv,ivx6,ivx7,ivx8,ivx9,ivx10]         #各变量IV\n",
    "index_list = ['x1','x2','x3','x4','x5','x6','x7','x8','x9','x10']              #x轴的标签\n",
    "fig1 = plt.figure(1,figsize=(8,5))\n",
    "ax1 = fig1.add_subplot(1, 1, 1)\n",
    "x = np.arange(len(index_list))+1 \n",
    "ax1.bar(x, iv_list, width=.4) #  ax1.bar(range(len(index)),ivlist, width=0.4)#生成柱状图  #ax1.bar(x,ivlist,width=.04)\n",
    "ax1.set_xticks(x)\n",
    "ax1.set_xticklabels(index_list, rotation=0, fontsize=15)\n",
    "ax1.set_ylabel('IV', fontsize=16)   #IV(Information Value),\n",
    "#在柱状图上添加数字标签\n",
    "for a, b in zip(x, iv_list):\n",
    "    plt.text(a, b + 0.01, '%.4f' % b, ha='center', va='bottom', fontsize=12)\n",
    "plt.show()\n",
    "\n",
    "\n",
    "# 可以看出，DebtRatio (x4)、MonthlyIncome(x5)、NumberOfOpenCreditLinesAndLoans(x6)、\n",
    "# NumberRealEstateLoansOrLines(x8)和NumberOfDependents(x10)变量的IV值明显较低，所以予以删除。\n",
    "\n",
    "# 故选择特征：RevolvingUtilizationOfUnsecuredLines（x1）、age（x2）、\n",
    "# NumberOfTime30-59DaysPastDueNotWorse（x3）、NumberOfTimes90DaysLate（x7）、\n",
    "# NumberOfTime60-89DaysPastDueNotWorse（x9）作为后续评分模型建立的对象。"
   ]
  },
  {
   "cell_type": "code",
   "execution_count": null,
   "id": "34e9e152-de45-4d0c-94a9-c3e47e541ac9",
   "metadata": {},
   "outputs": [],
   "source": []
  },
  {
   "cell_type": "markdown",
   "id": "cafcf7ec-f780-4133-9086-88ba36da76ba",
   "metadata": {},
   "source": [
    "# 5.建立模型"
   ]
  },
  {
   "cell_type": "code",
   "execution_count": 29,
   "id": "04526184-a315-400c-a6d4-545df720ed66",
   "metadata": {},
   "outputs": [
    {
     "data": {
      "text/html": [
       "<div>\n",
       "<style scoped>\n",
       "    .dataframe tbody tr th:only-of-type {\n",
       "        vertical-align: middle;\n",
       "    }\n",
       "\n",
       "    .dataframe tbody tr th {\n",
       "        vertical-align: top;\n",
       "    }\n",
       "\n",
       "    .dataframe thead th {\n",
       "        text-align: right;\n",
       "    }\n",
       "</style>\n",
       "<table border=\"1\" class=\"dataframe\">\n",
       "  <thead>\n",
       "    <tr style=\"text-align: right;\">\n",
       "      <th></th>\n",
       "      <th>SeriousDlqin2yrs</th>\n",
       "      <th>RevolvingUtilizationOfUnsecuredLines</th>\n",
       "      <th>age</th>\n",
       "      <th>NumberOfTime30-59DaysPastDueNotWorse</th>\n",
       "      <th>DebtRatio</th>\n",
       "      <th>MonthlyIncome</th>\n",
       "      <th>NumberOfOpenCreditLinesAndLoans</th>\n",
       "      <th>NumberOfTimes90DaysLate</th>\n",
       "      <th>NumberRealEstateLoansOrLines</th>\n",
       "      <th>NumberOfTime60-89DaysPastDueNotWorse</th>\n",
       "      <th>NumberOfDependents</th>\n",
       "    </tr>\n",
       "    <tr>\n",
       "      <th>Unnamed: 0</th>\n",
       "      <th></th>\n",
       "      <th></th>\n",
       "      <th></th>\n",
       "      <th></th>\n",
       "      <th></th>\n",
       "      <th></th>\n",
       "      <th></th>\n",
       "      <th></th>\n",
       "      <th></th>\n",
       "      <th></th>\n",
       "      <th></th>\n",
       "    </tr>\n",
       "  </thead>\n",
       "  <tbody>\n",
       "    <tr>\n",
       "      <th>1</th>\n",
       "      <td>1</td>\n",
       "      <td>0.766127</td>\n",
       "      <td>45</td>\n",
       "      <td>2</td>\n",
       "      <td>0.802982</td>\n",
       "      <td>9120.0</td>\n",
       "      <td>13</td>\n",
       "      <td>0</td>\n",
       "      <td>6</td>\n",
       "      <td>0</td>\n",
       "      <td>2.0</td>\n",
       "    </tr>\n",
       "  </tbody>\n",
       "</table>\n",
       "</div>"
      ],
      "text/plain": [
       "            SeriousDlqin2yrs  RevolvingUtilizationOfUnsecuredLines  age  \\\n",
       "Unnamed: 0                                                                \n",
       "1                          1                              0.766127   45   \n",
       "\n",
       "            NumberOfTime30-59DaysPastDueNotWorse  DebtRatio  MonthlyIncome  \\\n",
       "Unnamed: 0                                                                   \n",
       "1                                              2   0.802982         9120.0   \n",
       "\n",
       "            NumberOfOpenCreditLinesAndLoans  NumberOfTimes90DaysLate  \\\n",
       "Unnamed: 0                                                             \n",
       "1                                        13                        0   \n",
       "\n",
       "            NumberRealEstateLoansOrLines  \\\n",
       "Unnamed: 0                                 \n",
       "1                                      6   \n",
       "\n",
       "            NumberOfTime60-89DaysPastDueNotWorse  NumberOfDependents  \n",
       "Unnamed: 0                                                            \n",
       "1                                              0                 2.0  "
      ]
     },
     "execution_count": 29,
     "metadata": {},
     "output_type": "execute_result"
    }
   ],
   "source": [
    "train_data.head(1)"
   ]
  },
  {
   "cell_type": "code",
   "execution_count": 30,
   "id": "640a4c1b-5f18-4c7a-b9d8-082f5fa4b805",
   "metadata": {},
   "outputs": [],
   "source": [
    "# 在建立模型之前，我们需要将筛选后的变量转换为WoE值，便于信用评分\n",
    "\n",
    "#替换成woe函数\n",
    "def trans_woe(df,var_name,woe_list,cut_list):\n",
    "    woe_name=var_name+'_woe'\n",
    "    for i in range(len(woe_list)):       # len(woe) 得到woe里 有多少个数值\n",
    "        if i==0:\n",
    "            df.loc[(df[var_name]<=cut_list[i+1]), woe_name] = woe_list[i]  #将woe的值按 cut_list分箱的下节点，顺序赋值给var的woe_name 列 ，分箱的第一段\n",
    "        elif (i>0) and  (i<=len(woe_list)-2):\n",
    "            df.loc[((df[var_name]>cut_list[i])&(df[var_name]<=cut_list[i+1])),woe_name] = woe_list[i] #    中间的分箱区间\n",
    "        else:\n",
    "            df.loc[(df[var_name]>cut_list[len(woe_list)-1]),woe_name]=woe_list[len(woe_list)-1]   # 大于最后一个分箱区间的 上限值，最后一个值是正无穷\n",
    "    return df\n",
    "x1_name='RevolvingUtilizationOfUnsecuredLines'\n",
    "x2_name='age'\n",
    "x3_name='NumberOfTime30-59DaysPastDueNotWorse'\n",
    "x7_name='NumberOfTimes90DaysLate'\n",
    "x9_name='NumberOfTime60-89DaysPastDueNotWorse'"
   ]
  },
  {
   "cell_type": "code",
   "execution_count": 31,
   "id": "b2115902-5a76-4065-92f6-cbb5c184d4c8",
   "metadata": {},
   "outputs": [
    {
     "data": {
      "text/html": [
       "<div>\n",
       "<style scoped>\n",
       "    .dataframe tbody tr th:only-of-type {\n",
       "        vertical-align: middle;\n",
       "    }\n",
       "\n",
       "    .dataframe tbody tr th {\n",
       "        vertical-align: top;\n",
       "    }\n",
       "\n",
       "    .dataframe thead th {\n",
       "        text-align: right;\n",
       "    }\n",
       "</style>\n",
       "<table border=\"1\" class=\"dataframe\">\n",
       "  <thead>\n",
       "    <tr style=\"text-align: right;\">\n",
       "      <th></th>\n",
       "      <th>RevolvingUtilizationOfUnsecuredLines_woe</th>\n",
       "      <th>age_woe</th>\n",
       "      <th>NumberOfTime30-59DaysPastDueNotWorse_woe</th>\n",
       "      <th>NumberOfTimes90DaysLate_woe</th>\n",
       "      <th>NumberOfTime60-89DaysPastDueNotWorse_woe</th>\n",
       "    </tr>\n",
       "    <tr>\n",
       "      <th>Unnamed: 0</th>\n",
       "      <th></th>\n",
       "      <th></th>\n",
       "      <th></th>\n",
       "      <th></th>\n",
       "      <th></th>\n",
       "    </tr>\n",
       "  </thead>\n",
       "  <tbody>\n",
       "    <tr>\n",
       "      <th>1</th>\n",
       "      <td>-1.204</td>\n",
       "      <td>-0.482</td>\n",
       "      <td>1.702</td>\n",
       "      <td>3.301</td>\n",
       "      <td>2.982</td>\n",
       "    </tr>\n",
       "    <tr>\n",
       "      <th>2</th>\n",
       "      <td>-1.204</td>\n",
       "      <td>-0.869</td>\n",
       "      <td>2.625</td>\n",
       "      <td>3.301</td>\n",
       "      <td>2.982</td>\n",
       "    </tr>\n",
       "    <tr>\n",
       "      <th>3</th>\n",
       "      <td>-1.204</td>\n",
       "      <td>-0.869</td>\n",
       "      <td>2.362</td>\n",
       "      <td>3.278</td>\n",
       "      <td>2.982</td>\n",
       "    </tr>\n",
       "    <tr>\n",
       "      <th>4</th>\n",
       "      <td>-1.135</td>\n",
       "      <td>-1.036</td>\n",
       "      <td>2.625</td>\n",
       "      <td>3.301</td>\n",
       "      <td>2.982</td>\n",
       "    </tr>\n",
       "    <tr>\n",
       "      <th>5</th>\n",
       "      <td>-1.204</td>\n",
       "      <td>-0.186</td>\n",
       "      <td>2.362</td>\n",
       "      <td>3.301</td>\n",
       "      <td>2.982</td>\n",
       "    </tr>\n",
       "  </tbody>\n",
       "</table>\n",
       "</div>"
      ],
      "text/plain": [
       "            RevolvingUtilizationOfUnsecuredLines_woe  age_woe  \\\n",
       "Unnamed: 0                                                      \n",
       "1                                             -1.204   -0.482   \n",
       "2                                             -1.204   -0.869   \n",
       "3                                             -1.204   -0.869   \n",
       "4                                             -1.135   -1.036   \n",
       "5                                             -1.204   -0.186   \n",
       "\n",
       "            NumberOfTime30-59DaysPastDueNotWorse_woe  \\\n",
       "Unnamed: 0                                             \n",
       "1                                              1.702   \n",
       "2                                              2.625   \n",
       "3                                              2.362   \n",
       "4                                              2.625   \n",
       "5                                              2.362   \n",
       "\n",
       "            NumberOfTimes90DaysLate_woe  \\\n",
       "Unnamed: 0                                \n",
       "1                                 3.301   \n",
       "2                                 3.301   \n",
       "3                                 3.278   \n",
       "4                                 3.301   \n",
       "5                                 3.301   \n",
       "\n",
       "            NumberOfTime60-89DaysPastDueNotWorse_woe  \n",
       "Unnamed: 0                                            \n",
       "1                                              2.982  \n",
       "2                                              2.982  \n",
       "3                                              2.982  \n",
       "4                                              2.982  \n",
       "5                                              2.982  "
      ]
     },
     "execution_count": 31,
     "metadata": {},
     "output_type": "execute_result"
    }
   ],
   "source": [
    "train_data=trans_woe(train_data,x1_name,woex1_list,cutx1_list)\n",
    "train_data=trans_woe(train_data,x2_name,woex2_list,cutx2_list)\n",
    "train_data=trans_woe(train_data,x3_name,woex3_list,cutx3_list)\n",
    "train_data=trans_woe(train_data,x7_name,woex7_list,cutx7_list)\n",
    "train_data=trans_woe(train_data,x9_name,woex9_list,cutx9_list)\n",
    "\n",
    "Y=train_data['SeriousDlqin2yrs']   #因变量\n",
    "#自变量，剔除对因变量影响不明显的变量\n",
    "X=train_data.drop(['SeriousDlqin2yrs','DebtRatio','MonthlyIncome', 'NumberOfOpenCreditLinesAndLoans','NumberRealEstateLoansOrLines','NumberOfDependents'],axis=1)\n",
    "X=train_data.iloc[:,-5:]\n",
    "X.head()"
   ]
  },
  {
   "cell_type": "code",
   "execution_count": 32,
   "id": "aab09bb5-a27c-497d-8ebe-2f727fb4fe70",
   "metadata": {},
   "outputs": [
    {
     "data": {
      "text/plain": [
       "[1.044, -0.247, -1.135, -1.204]"
      ]
     },
     "execution_count": 32,
     "metadata": {},
     "output_type": "execute_result"
    }
   ],
   "source": [
    "woex1_list"
   ]
  },
  {
   "cell_type": "code",
   "execution_count": 33,
   "id": "c6d9f42e-e06f-42f1-8146-e117deb14652",
   "metadata": {},
   "outputs": [
    {
     "name": "stdout",
     "output_type": "stream",
     "text": [
      "Optimization terminated successfully.\n",
      "         Current function value: 0.189904\n",
      "         Iterations 8\n",
      "<statsmodels.discrete.discrete_model.BinaryResultsWrapper object at 0x2863aef10>\n",
      "                           Logit Regression Results                           \n",
      "==============================================================================\n",
      "Dep. Variable:       SeriousDlqin2yrs   No. Observations:               142559\n",
      "Model:                          Logit   Df Residuals:                   142553\n",
      "Method:                           MLE   Df Model:                            5\n",
      "Date:                Mon, 18 Jul 2022   Pseudo R-squ.:                  0.1590\n",
      "Time:                        16:18:41   Log-Likelihood:                -27073.\n",
      "converged:                       True   LL-Null:                       -32192.\n",
      "Covariance Type:            nonrobust   LLR p-value:                     0.000\n",
      "============================================================================================================\n",
      "                                               coef    std err          z      P>|z|      [0.025      0.975]\n",
      "------------------------------------------------------------------------------------------------------------\n",
      "const                                       10.3372      0.265     38.950      0.000       9.817      10.857\n",
      "RevolvingUtilizationOfUnsecuredLines_woe    -0.7948      0.021    -38.538      0.000      -0.835      -0.754\n",
      "age_woe                                     -0.5047      0.023    -22.138      0.000      -0.549      -0.460\n",
      "NumberOfTime30-59DaysPastDueNotWorse_woe    -1.3255      0.029    -45.785      0.000      -1.382      -1.269\n",
      "NumberOfTimes90DaysLate_woe                 -1.9540      0.071    -27.438      0.000      -2.094      -1.814\n",
      "NumberOfTime60-89DaysPastDueNotWorse_woe    -1.3957      0.054    -25.712      0.000      -1.502      -1.289\n",
      "============================================================================================================\n"
     ]
    }
   ],
   "source": [
    "# STATSMODEL包来建立逻辑回归模型得到回归系数，后面可用于建立标准评分卡\n",
    "import statsmodels.api as sm\n",
    "X1=sm.add_constant(X)\n",
    "logit=sm.Logit(Y,X1)\n",
    "model=logit.fit()\n",
    "print(model)\n",
    "print(model.summary())"
   ]
  },
  {
   "cell_type": "code",
   "execution_count": 34,
   "id": "8584405b-7d30-45fd-82f8-08da94e51640",
   "metadata": {},
   "outputs": [
    {
     "name": "stdout",
     "output_type": "stream",
     "text": [
      "coe:  [[-0.79485377 -0.50456853 -1.3250292  -1.94510528 -1.39299188]]\n",
      "intercept:  [10.29886656]\n"
     ]
    }
   ],
   "source": [
    "# Logistic回归模型——将训练集的数据分为测试集和训练集\n",
    "from sklearn.linear_model import LogisticRegression\n",
    "from sklearn.model_selection import train_test_split\n",
    "\n",
    "clf = LogisticRegression()\n",
    "clf.fit(X,Y)\n",
    "#对测试集做预测\n",
    "# score_proba = clf.predict_proba(x_test)\n",
    "# y_predproba=score_proba[:,1]\n",
    "coe = clf.coef_\n",
    "print(\"coe: \", coe)\n",
    "print(\"intercept: \", clf.intercept_)\n"
   ]
  },
  {
   "cell_type": "markdown",
   "id": "5334b0c5-b93b-46b2-abc2-6a001998b09a",
   "metadata": {},
   "source": [
    "# 6.模型评估"
   ]
  },
  {
   "cell_type": "code",
   "execution_count": 35,
   "id": "6ade151d-bd85-4ff3-a079-7347fcb7aa43",
   "metadata": {},
   "outputs": [],
   "source": [
    "#评估\n",
    "from sklearn import metrics"
   ]
  },
  {
   "cell_type": "code",
   "execution_count": 36,
   "id": "f610d2f1-576b-4a99-8d01-650de67f74b1",
   "metadata": {},
   "outputs": [
    {
     "data": {
      "image/png": "[encoded data removed]",
      "text/plain": [
       "<Figure size 576x360 with 1 Axes>"
      ]
     },
     "metadata": {
      "needs_background": "light"
     },
     "output_type": "display_data"
    }
   ],
   "source": [
    "## AUC\n",
    "train_data_test = sm.add_constant(X)\n",
    "predict_y = model.predict(train_data_test)               # 进行预测\n",
    "fpr, tpr, threshold = metrics.roc_curve(Y, predict_y)    # 评估算法\n",
    "rocauc = metrics.auc(fpr, tpr)                           # 计算AUC\n",
    "plt.figure(figsize=(8,5))  #只能在这里面设置\n",
    "plt.plot(fpr,tpr,'b',label='AUC=%0.2f'% rocauc)\n",
    "plt.legend(loc='lower right',fontsize=14)\n",
    "plt.plot([0.0, 1.0], [0.0, 1.0], 'r--')\n",
    "plt.xlim=([0.0, 1.0])\n",
    "plt.ylim=([0.0, 1.0])\n",
    "plt.xticks(fontsize=14)\n",
    "plt.yticks(fontsize=14)\n",
    "plt.ylabel('TPR-真正率',fontsize=16)\n",
    "plt.xlabel('FPR-假正率',fontsize=16)\n",
    "plt.show()"
   ]
  },
  {
   "cell_type": "code",
   "execution_count": null,
   "id": "ed0278e8-a44a-4ea3-b3ff-5e437b9fb9b0",
   "metadata": {},
   "outputs": [],
   "source": []
  },
  {
   "cell_type": "code",
   "execution_count": 37,
   "id": "8fa638b5-1c12-4faa-a962-845854b03b13",
   "metadata": {},
   "outputs": [],
   "source": [
    "# # KS 指标\n",
    "# https://zhuanlan.zhihu.com/p/79934510 【风控模型—区分度评估指标(KS)深入理解应用】\n",
    "# KS指标: 用以评估模型对好、坏客户的判别区分能力，计算累计坏客户与累计好客户百分比的最大差距。KS值范围在0%-100%，判别标准如下：\n",
    "# KS: <20% : 差\n",
    "# KS: 20%-40% : 一般\n",
    "# KS: 41%-50% : 好\n",
    "# KS: 51%-75% : 非常好\n",
    "# KS: >75% : 过高，需要谨慎的验证模型"
   ]
  },
  {
   "cell_type": "code",
   "execution_count": 38,
   "id": "1053b440-7de7-4d4f-a371-179c76f27aef",
   "metadata": {},
   "outputs": [
    {
     "data": {
      "image/png": "[encoded data removed]",
      "text/plain": [
       "<Figure size 432x288 with 1 Axes>"
      ]
     },
     "metadata": {
      "needs_background": "light"
     },
     "output_type": "display_data"
    },
    {
     "data": {
      "text/plain": [
       "<Figure size 1440x1440 with 0 Axes>"
      ]
     },
     "metadata": {},
     "output_type": "display_data"
    },
    {
     "name": "stdout",
     "output_type": "stream",
     "text": [
      "max(tpr-fpr):  0.45692213969953377\n"
     ]
    }
   ],
   "source": [
    "fig, ax = plt.subplots()\n",
    "ax.plot(1-threshold, tpr,label='tpr')\n",
    "ax.plot(1-threshold, fpr,label='fpr')\n",
    "ax.plot(1-threshold, tpr-fpr,label='KS')\n",
    "plt.xlabel('score')\n",
    "plt.title('KS curve')\n",
    "plt.xlim=([0.0,1.0])\n",
    "plt.ylim=([0.0,1.0])\n",
    "plt.figure(figsize=(20,20))\n",
    "legend=ax.legend(loc='upper left')\n",
    "plt.show()\n",
    "print(\"max(tpr-fpr): \", max(tpr-fpr))"
   ]
  },
  {
   "cell_type": "markdown",
   "id": "ad54b4fb-f9d8-4c18-9fb2-2a87c457daad",
   "metadata": {},
   "source": []
  },
  {
   "cell_type": "code",
   "execution_count": null,
   "id": "56e22e28-84ad-433a-80f0-e524ac55090a",
   "metadata": {},
   "outputs": [],
   "source": []
  },
  {
   "cell_type": "code",
   "execution_count": null,
   "id": "8eb03c11-bbdf-4d3a-a71f-2c26dd970778",
   "metadata": {},
   "outputs": [],
   "source": []
  },
  {
   "cell_type": "code",
   "execution_count": null,
   "id": "47a28813-7fbd-4fba-9700-4f4e220aceaf",
   "metadata": {},
   "outputs": [],
   "source": []
  },
  {
   "cell_type": "code",
   "execution_count": null,
   "id": "600ef33f-520c-4783-b0e8-bb4a0a7ba6cb",
   "metadata": {},
   "outputs": [],
   "source": []
  },
  {
   "cell_type": "code",
   "execution_count": null,
   "id": "5c3aa322-6b7b-480f-9484-69158e03270f",
   "metadata": {},
   "outputs": [],
   "source": []
  },
  {
   "cell_type": "code",
   "execution_count": null,
   "id": "16fa54f9-56db-41c7-a693-84b9eed12506",
   "metadata": {},
   "outputs": [],
   "source": []
  },
  {
   "cell_type": "code",
   "execution_count": null,
   "id": "d8326cf4-1fbe-4403-80c6-e219cb9935f0",
   "metadata": {},
   "outputs": [],
   "source": []
  },
  {
   "cell_type": "code",
   "execution_count": null,
   "id": "7fd17039-944f-4870-80e0-0dc9e822dd08",
   "metadata": {},
   "outputs": [],
   "source": []
  },
  {
   "cell_type": "code",
   "execution_count": null,
   "id": "b8c31e66-820c-4157-8346-124fd0cfbb29",
   "metadata": {},
   "outputs": [],
   "source": []
  },
  {
   "cell_type": "markdown",
   "id": "50103cc2-acb1-4922-8fe5-4902d9a68fd9",
   "metadata": {},
   "source": [
    "# 7.创建信用评分卡"
   ]
  },
  {
   "cell_type": "code",
   "execution_count": 39,
   "id": "278ab5cd-5f16-4dad-96b5-49be103e8fc1",
   "metadata": {},
   "outputs": [],
   "source": [
    "# 在建立标准评分卡之前，还需要设定几个评分卡参数: 基础分值、 PDO（比率翻倍的分值）和好坏比。 \n",
    "# 这里， 我们取600分为基础分值b，取20为PDO （每高20分好坏比翻一倍）"
   ]
  },
  {
   "cell_type": "code",
   "execution_count": 40,
   "id": "e4fb914f-9d60-4a4a-bbb0-c5e0188ccd49",
   "metadata": {},
   "outputs": [],
   "source": [
    "p = 20/np.log(2)                                             # 比例因子\n",
    "q = 600-20*np.log(20)/np.log(2)                              # 等于offset,偏移量\n",
    "x_coe_list = [-2.7340, 0.6526, 0.5201, 0.5581, 0.5943, 0.4329]    # 回归系数\n",
    "baseScore = round(q + p*x_coe_list[0], 0)\n",
    "\n",
    "#个人总评分=基础分+各部分得分\n",
    "def get_score(coe, woe_list, factor):\n",
    "    scores = []\n",
    "    for w in woe_list:\n",
    "        score=round(coe*w*factor,0)\n",
    "        scores.append(score)\n",
    "    return scores\n",
    "\n",
    "#每一个特征项得分\n",
    "x1_score_list = get_score(x_coe_list[1], woex1_list, p)\n",
    "x2_score_list = get_score(x_coe_list[2], woex2_list, p)\n",
    "x3_score_list = get_score(x_coe_list[3], woex3_list, p)\n",
    "x7_score_list = get_score(x_coe_list[4], woex7_list, p)\n",
    "x9_score_list = get_score(x_coe_list[5], woex9_list, p)\n",
    "\n",
    "def compute_score(series, cut_list, score_list):\n",
    "    res_list = []\n",
    "    i = 0\n",
    "    while i < len(series):\n",
    "        #print(series[i].dtype)\n",
    "        #print(series.iloc[i])\n",
    "        value = series.iloc[i]\n",
    "        j = len(cut_list) - 2\n",
    "        m = len(cut_list) - 2\n",
    "        while j >= 0:\n",
    "            if value >= cut_list[j]:\n",
    "                j = -1\n",
    "            else:\n",
    "                j -= 1\n",
    "                m -= 1\n",
    "        res_list.append(score_list[m])\n",
    "        i += 1\n",
    "    return res_list"
   ]
  },
  {
   "cell_type": "code",
   "execution_count": 41,
   "id": "efd60ff2-9672-445e-879c-04d893fb248a",
   "metadata": {
    "tags": []
   },
   "outputs": [
    {
     "data": {
      "text/html": [
       "<div>\n",
       "<style scoped>\n",
       "    .dataframe tbody tr th:only-of-type {\n",
       "        vertical-align: middle;\n",
       "    }\n",
       "\n",
       "    .dataframe tbody tr th {\n",
       "        vertical-align: top;\n",
       "    }\n",
       "\n",
       "    .dataframe thead th {\n",
       "        text-align: right;\n",
       "    }\n",
       "</style>\n",
       "<table border=\"1\" class=\"dataframe\">\n",
       "  <thead>\n",
       "    <tr style=\"text-align: right;\">\n",
       "      <th></th>\n",
       "      <th>SeriousDlqin2yrs</th>\n",
       "      <th>RevolvingUtilizationOfUnsecuredLines</th>\n",
       "      <th>age</th>\n",
       "      <th>NumberOfTime30-59DaysPastDueNotWorse</th>\n",
       "      <th>DebtRatio</th>\n",
       "      <th>MonthlyIncome</th>\n",
       "      <th>NumberOfOpenCreditLinesAndLoans</th>\n",
       "      <th>NumberOfTimes90DaysLate</th>\n",
       "      <th>NumberRealEstateLoansOrLines</th>\n",
       "      <th>NumberOfTime60-89DaysPastDueNotWorse</th>\n",
       "      <th>NumberOfDependents</th>\n",
       "      <th>RevolvingUtilizationOfUnsecuredLines_woe</th>\n",
       "      <th>age_woe</th>\n",
       "      <th>NumberOfTime30-59DaysPastDueNotWorse_woe</th>\n",
       "      <th>NumberOfTimes90DaysLate_woe</th>\n",
       "      <th>NumberOfTime60-89DaysPastDueNotWorse_woe</th>\n",
       "    </tr>\n",
       "    <tr>\n",
       "      <th>Unnamed: 0</th>\n",
       "      <th></th>\n",
       "      <th></th>\n",
       "      <th></th>\n",
       "      <th></th>\n",
       "      <th></th>\n",
       "      <th></th>\n",
       "      <th></th>\n",
       "      <th></th>\n",
       "      <th></th>\n",
       "      <th></th>\n",
       "      <th></th>\n",
       "      <th></th>\n",
       "      <th></th>\n",
       "      <th></th>\n",
       "      <th></th>\n",
       "      <th></th>\n",
       "    </tr>\n",
       "  </thead>\n",
       "  <tbody>\n",
       "    <tr>\n",
       "      <th>1</th>\n",
       "      <td>1</td>\n",
       "      <td>0.766127</td>\n",
       "      <td>45</td>\n",
       "      <td>2</td>\n",
       "      <td>0.802982</td>\n",
       "      <td>9120.0</td>\n",
       "      <td>13</td>\n",
       "      <td>0</td>\n",
       "      <td>6</td>\n",
       "      <td>0</td>\n",
       "      <td>2.0</td>\n",
       "      <td>-1.204</td>\n",
       "      <td>-0.482</td>\n",
       "      <td>1.702</td>\n",
       "      <td>3.301</td>\n",
       "      <td>2.982</td>\n",
       "    </tr>\n",
       "  </tbody>\n",
       "</table>\n",
       "</div>"
      ],
      "text/plain": [
       "            SeriousDlqin2yrs  RevolvingUtilizationOfUnsecuredLines  age  \\\n",
       "Unnamed: 0                                                                \n",
       "1                          1                              0.766127   45   \n",
       "\n",
       "            NumberOfTime30-59DaysPastDueNotWorse  DebtRatio  MonthlyIncome  \\\n",
       "Unnamed: 0                                                                   \n",
       "1                                              2   0.802982         9120.0   \n",
       "\n",
       "            NumberOfOpenCreditLinesAndLoans  NumberOfTimes90DaysLate  \\\n",
       "Unnamed: 0                                                             \n",
       "1                                        13                        0   \n",
       "\n",
       "            NumberRealEstateLoansOrLines  \\\n",
       "Unnamed: 0                                 \n",
       "1                                      6   \n",
       "\n",
       "            NumberOfTime60-89DaysPastDueNotWorse  NumberOfDependents  \\\n",
       "Unnamed: 0                                                             \n",
       "1                                              0                 2.0   \n",
       "\n",
       "            RevolvingUtilizationOfUnsecuredLines_woe  age_woe  \\\n",
       "Unnamed: 0                                                      \n",
       "1                                             -1.204   -0.482   \n",
       "\n",
       "            NumberOfTime30-59DaysPastDueNotWorse_woe  \\\n",
       "Unnamed: 0                                             \n",
       "1                                              1.702   \n",
       "\n",
       "            NumberOfTimes90DaysLate_woe  \\\n",
       "Unnamed: 0                                \n",
       "1                                 3.301   \n",
       "\n",
       "            NumberOfTime60-89DaysPastDueNotWorse_woe  \n",
       "Unnamed: 0                                            \n",
       "1                                              2.982  "
      ]
     },
     "execution_count": 41,
     "metadata": {},
     "output_type": "execute_result"
    }
   ],
   "source": [
    "train_data.head(1)"
   ]
  },
  {
   "cell_type": "code",
   "execution_count": 42,
   "id": "48950bf3-a984-40d2-a253-26fbb155d93f",
   "metadata": {
    "tags": []
   },
   "outputs": [
    {
     "data": {
      "text/html": [
       "<div>\n",
       "<style scoped>\n",
       "    .dataframe tbody tr th:only-of-type {\n",
       "        vertical-align: middle;\n",
       "    }\n",
       "\n",
       "    .dataframe tbody tr th {\n",
       "        vertical-align: top;\n",
       "    }\n",
       "\n",
       "    .dataframe thead th {\n",
       "        text-align: right;\n",
       "    }\n",
       "</style>\n",
       "<table border=\"1\" class=\"dataframe\">\n",
       "  <thead>\n",
       "    <tr style=\"text-align: right;\">\n",
       "      <th></th>\n",
       "      <th>SeriousDlqin2yrs</th>\n",
       "      <th>BaseScore</th>\n",
       "      <th>x1</th>\n",
       "      <th>x2</th>\n",
       "      <th>x3</th>\n",
       "      <th>x7</th>\n",
       "      <th>x9</th>\n",
       "      <th>Score</th>\n",
       "    </tr>\n",
       "    <tr>\n",
       "      <th>Unnamed: 0</th>\n",
       "      <th></th>\n",
       "      <th></th>\n",
       "      <th></th>\n",
       "      <th></th>\n",
       "      <th></th>\n",
       "      <th></th>\n",
       "      <th></th>\n",
       "      <th></th>\n",
       "    </tr>\n",
       "  </thead>\n",
       "  <tbody>\n",
       "    <tr>\n",
       "      <th>1</th>\n",
       "      <td>1</td>\n",
       "      <td>435.0</td>\n",
       "      <td>-23.0</td>\n",
       "      <td>-3.0</td>\n",
       "      <td>27.0</td>\n",
       "      <td>56.0</td>\n",
       "      <td>34.0</td>\n",
       "      <td>526.0</td>\n",
       "    </tr>\n",
       "    <tr>\n",
       "      <th>2</th>\n",
       "      <td>0</td>\n",
       "      <td>435.0</td>\n",
       "      <td>-23.0</td>\n",
       "      <td>-7.0</td>\n",
       "      <td>38.0</td>\n",
       "      <td>56.0</td>\n",
       "      <td>34.0</td>\n",
       "      <td>533.0</td>\n",
       "    </tr>\n",
       "    <tr>\n",
       "      <th>3</th>\n",
       "      <td>0</td>\n",
       "      <td>435.0</td>\n",
       "      <td>-23.0</td>\n",
       "      <td>-13.0</td>\n",
       "      <td>27.0</td>\n",
       "      <td>47.0</td>\n",
       "      <td>34.0</td>\n",
       "      <td>507.0</td>\n",
       "    </tr>\n",
       "    <tr>\n",
       "      <th>4</th>\n",
       "      <td>0</td>\n",
       "      <td>435.0</td>\n",
       "      <td>-21.0</td>\n",
       "      <td>-16.0</td>\n",
       "      <td>38.0</td>\n",
       "      <td>56.0</td>\n",
       "      <td>34.0</td>\n",
       "      <td>526.0</td>\n",
       "    </tr>\n",
       "    <tr>\n",
       "      <th>5</th>\n",
       "      <td>0</td>\n",
       "      <td>435.0</td>\n",
       "      <td>-23.0</td>\n",
       "      <td>-3.0</td>\n",
       "      <td>27.0</td>\n",
       "      <td>56.0</td>\n",
       "      <td>34.0</td>\n",
       "      <td>526.0</td>\n",
       "    </tr>\n",
       "  </tbody>\n",
       "</table>\n",
       "</div>"
      ],
      "text/plain": [
       "            SeriousDlqin2yrs  BaseScore    x1    x2    x3    x7    x9  Score\n",
       "Unnamed: 0                                                                  \n",
       "1                          1      435.0 -23.0  -3.0  27.0  56.0  34.0  526.0\n",
       "2                          0      435.0 -23.0  -7.0  38.0  56.0  34.0  533.0\n",
       "3                          0      435.0 -23.0 -13.0  27.0  47.0  34.0  507.0\n",
       "4                          0      435.0 -21.0 -16.0  38.0  56.0  34.0  526.0\n",
       "5                          0      435.0 -23.0  -3.0  27.0  56.0  34.0  526.0"
      ]
     },
     "execution_count": 42,
     "metadata": {},
     "output_type": "execute_result"
    }
   ],
   "source": [
    "col_name_list = {'x1': 'RevolvingUtilizationOfUnsecuredLines',\n",
    "                 'x2': 'age',\n",
    "                 'x3':'NumberOfTime30-59DaysPastDueNotWorse',\n",
    "                 'x7':'NumberOfTimes90DaysLate',\n",
    "                 'x9':'NumberOfTime60-89DaysPastDueNotWorse'}\n",
    "train_data['BaseScore'] = np.zeros(len(train_data)) + baseScore\n",
    "train_data['x1'] = compute_score(train_data['RevolvingUtilizationOfUnsecuredLines'], cutx1_list, x1_score_list)\n",
    "train_data['x2'] = compute_score(train_data['age'], cutx2_list, x2_score_list)\n",
    "train_data['x3'] = compute_score(train_data['NumberOfTime30-59DaysPastDueNotWorse'], cutx3_list, x3_score_list)\n",
    "train_data['x7'] = compute_score(train_data['NumberOfTimes90DaysLate'], cutx7_list, x7_score_list)\n",
    "train_data['x9'] = compute_score(train_data['NumberOfTime60-89DaysPastDueNotWorse'],cutx9_list, x9_score_list)\n",
    "train_data['Score'] = train_data['x1'] + train_data['x2'] + train_data['x3'] + train_data['x7'] +train_data['x9']  + baseScore\n",
    "\n",
    "score_df = train_data.iloc[:,[0,-7,-6,-5,-4,-3,-2,-1]]  #选取需要的列，就是评分列\n",
    "score_df.head()\n"
   ]
  },
  {
   "cell_type": "code",
   "execution_count": 43,
   "id": "bc35b577-17a9-4789-8a99-9bdfc60194b3",
   "metadata": {},
   "outputs": [
    {
     "data": {
      "text/html": [
       "<div>\n",
       "<style scoped>\n",
       "    .dataframe tbody tr th:only-of-type {\n",
       "        vertical-align: middle;\n",
       "    }\n",
       "\n",
       "    .dataframe tbody tr th {\n",
       "        vertical-align: top;\n",
       "    }\n",
       "\n",
       "    .dataframe thead th {\n",
       "        text-align: right;\n",
       "    }\n",
       "</style>\n",
       "<table border=\"1\" class=\"dataframe\">\n",
       "  <thead>\n",
       "    <tr style=\"text-align: right;\">\n",
       "      <th></th>\n",
       "      <th>SeriousDlqin2yrs</th>\n",
       "      <th>BaseScore</th>\n",
       "      <th>RevolvingUtilizationOfUnsecuredLines</th>\n",
       "      <th>age</th>\n",
       "      <th>NumberOfTime30-59DaysPastDueNotWorse</th>\n",
       "      <th>NumberOfTimes90DaysLate</th>\n",
       "      <th>NumberOfTime60-89DaysPastDueNotWorse</th>\n",
       "      <th>Score</th>\n",
       "    </tr>\n",
       "    <tr>\n",
       "      <th>Unnamed: 0</th>\n",
       "      <th></th>\n",
       "      <th></th>\n",
       "      <th></th>\n",
       "      <th></th>\n",
       "      <th></th>\n",
       "      <th></th>\n",
       "      <th></th>\n",
       "      <th></th>\n",
       "    </tr>\n",
       "  </thead>\n",
       "  <tbody>\n",
       "    <tr>\n",
       "      <th>1</th>\n",
       "      <td>1</td>\n",
       "      <td>435.0</td>\n",
       "      <td>-23.0</td>\n",
       "      <td>-3.0</td>\n",
       "      <td>27.0</td>\n",
       "      <td>56.0</td>\n",
       "      <td>34.0</td>\n",
       "      <td>526.0</td>\n",
       "    </tr>\n",
       "    <tr>\n",
       "      <th>2</th>\n",
       "      <td>0</td>\n",
       "      <td>435.0</td>\n",
       "      <td>-23.0</td>\n",
       "      <td>-7.0</td>\n",
       "      <td>38.0</td>\n",
       "      <td>56.0</td>\n",
       "      <td>34.0</td>\n",
       "      <td>533.0</td>\n",
       "    </tr>\n",
       "    <tr>\n",
       "      <th>3</th>\n",
       "      <td>0</td>\n",
       "      <td>435.0</td>\n",
       "      <td>-23.0</td>\n",
       "      <td>-13.0</td>\n",
       "      <td>27.0</td>\n",
       "      <td>47.0</td>\n",
       "      <td>34.0</td>\n",
       "      <td>507.0</td>\n",
       "    </tr>\n",
       "    <tr>\n",
       "      <th>4</th>\n",
       "      <td>0</td>\n",
       "      <td>435.0</td>\n",
       "      <td>-21.0</td>\n",
       "      <td>-16.0</td>\n",
       "      <td>38.0</td>\n",
       "      <td>56.0</td>\n",
       "      <td>34.0</td>\n",
       "      <td>526.0</td>\n",
       "    </tr>\n",
       "    <tr>\n",
       "      <th>5</th>\n",
       "      <td>0</td>\n",
       "      <td>435.0</td>\n",
       "      <td>-23.0</td>\n",
       "      <td>-3.0</td>\n",
       "      <td>27.0</td>\n",
       "      <td>56.0</td>\n",
       "      <td>34.0</td>\n",
       "      <td>526.0</td>\n",
       "    </tr>\n",
       "  </tbody>\n",
       "</table>\n",
       "</div>"
      ],
      "text/plain": [
       "            SeriousDlqin2yrs  BaseScore  RevolvingUtilizationOfUnsecuredLines  \\\n",
       "Unnamed: 0                                                                      \n",
       "1                          1      435.0                                 -23.0   \n",
       "2                          0      435.0                                 -23.0   \n",
       "3                          0      435.0                                 -23.0   \n",
       "4                          0      435.0                                 -21.0   \n",
       "5                          0      435.0                                 -23.0   \n",
       "\n",
       "             age  NumberOfTime30-59DaysPastDueNotWorse  \\\n",
       "Unnamed: 0                                               \n",
       "1           -3.0                                  27.0   \n",
       "2           -7.0                                  38.0   \n",
       "3          -13.0                                  27.0   \n",
       "4          -16.0                                  38.0   \n",
       "5           -3.0                                  27.0   \n",
       "\n",
       "            NumberOfTimes90DaysLate  NumberOfTime60-89DaysPastDueNotWorse  \\\n",
       "Unnamed: 0                                                                  \n",
       "1                              56.0                                  34.0   \n",
       "2                              56.0                                  34.0   \n",
       "3                              47.0                                  34.0   \n",
       "4                              56.0                                  34.0   \n",
       "5                              56.0                                  34.0   \n",
       "\n",
       "            Score  \n",
       "Unnamed: 0         \n",
       "1           526.0  \n",
       "2           533.0  \n",
       "3           507.0  \n",
       "4           526.0  \n",
       "5           526.0  "
      ]
     },
     "execution_count": 43,
     "metadata": {},
     "output_type": "execute_result"
    }
   ],
   "source": [
    "score_df = score_df.rename(columns=col_name_list, inplace=False)\n",
    "score_df.head()\n",
    "\n",
    "# score_df.to_excel('./训练集评分卡.xlsx')"
   ]
  },
  {
   "cell_type": "markdown",
   "id": "c46eb2d8-5583-4b24-a451-450bc5083526",
   "metadata": {},
   "source": [
    "# 8. 预测测试集"
   ]
  },
  {
   "cell_type": "code",
   "execution_count": 44,
   "id": "1239b43b-0920-4ef4-9def-8361297f60c9",
   "metadata": {},
   "outputs": [
    {
     "data": {
      "text/html": [
       "<div>\n",
       "<style scoped>\n",
       "    .dataframe tbody tr th:only-of-type {\n",
       "        vertical-align: middle;\n",
       "    }\n",
       "\n",
       "    .dataframe tbody tr th {\n",
       "        vertical-align: top;\n",
       "    }\n",
       "\n",
       "    .dataframe thead th {\n",
       "        text-align: right;\n",
       "    }\n",
       "</style>\n",
       "<table border=\"1\" class=\"dataframe\">\n",
       "  <thead>\n",
       "    <tr style=\"text-align: right;\">\n",
       "      <th></th>\n",
       "      <th>SeriousDlqin2yrs</th>\n",
       "      <th>RevolvingUtilizationOfUnsecuredLines</th>\n",
       "      <th>age</th>\n",
       "      <th>NumberOfTime30-59DaysPastDueNotWorse</th>\n",
       "      <th>DebtRatio</th>\n",
       "      <th>MonthlyIncome</th>\n",
       "      <th>NumberOfOpenCreditLinesAndLoans</th>\n",
       "      <th>NumberOfTimes90DaysLate</th>\n",
       "      <th>NumberRealEstateLoansOrLines</th>\n",
       "      <th>NumberOfTime60-89DaysPastDueNotWorse</th>\n",
       "      <th>NumberOfDependents</th>\n",
       "    </tr>\n",
       "    <tr>\n",
       "      <th>Unnamed: 0</th>\n",
       "      <th></th>\n",
       "      <th></th>\n",
       "      <th></th>\n",
       "      <th></th>\n",
       "      <th></th>\n",
       "      <th></th>\n",
       "      <th></th>\n",
       "      <th></th>\n",
       "      <th></th>\n",
       "      <th></th>\n",
       "      <th></th>\n",
       "    </tr>\n",
       "  </thead>\n",
       "  <tbody>\n",
       "    <tr>\n",
       "      <th>1</th>\n",
       "      <td>NaN</td>\n",
       "      <td>0.885519</td>\n",
       "      <td>43</td>\n",
       "      <td>0</td>\n",
       "      <td>0.177513</td>\n",
       "      <td>5700.0</td>\n",
       "      <td>4</td>\n",
       "      <td>0</td>\n",
       "      <td>0</td>\n",
       "      <td>0</td>\n",
       "      <td>0.0</td>\n",
       "    </tr>\n",
       "  </tbody>\n",
       "</table>\n",
       "</div>"
      ],
      "text/plain": [
       "            SeriousDlqin2yrs  RevolvingUtilizationOfUnsecuredLines  age  \\\n",
       "Unnamed: 0                                                                \n",
       "1                        NaN                              0.885519   43   \n",
       "\n",
       "            NumberOfTime30-59DaysPastDueNotWorse  DebtRatio  MonthlyIncome  \\\n",
       "Unnamed: 0                                                                   \n",
       "1                                              0   0.177513         5700.0   \n",
       "\n",
       "            NumberOfOpenCreditLinesAndLoans  NumberOfTimes90DaysLate  \\\n",
       "Unnamed: 0                                                             \n",
       "1                                         4                        0   \n",
       "\n",
       "            NumberRealEstateLoansOrLines  \\\n",
       "Unnamed: 0                                 \n",
       "1                                      0   \n",
       "\n",
       "            NumberOfTime60-89DaysPastDueNotWorse  NumberOfDependents  \n",
       "Unnamed: 0                                                            \n",
       "1                                              0                 0.0  "
      ]
     },
     "execution_count": 44,
     "metadata": {},
     "output_type": "execute_result"
    }
   ],
   "source": [
    "test_data.head(1)"
   ]
  },
  {
   "cell_type": "code",
   "execution_count": 45,
   "id": "f3148a14-7c7e-429b-8215-e4faadbf7682",
   "metadata": {},
   "outputs": [
    {
     "data": {
      "text/html": [
       "<div>\n",
       "<style scoped>\n",
       "    .dataframe tbody tr th:only-of-type {\n",
       "        vertical-align: middle;\n",
       "    }\n",
       "\n",
       "    .dataframe tbody tr th {\n",
       "        vertical-align: top;\n",
       "    }\n",
       "\n",
       "    .dataframe thead th {\n",
       "        text-align: right;\n",
       "    }\n",
       "</style>\n",
       "<table border=\"1\" class=\"dataframe\">\n",
       "  <thead>\n",
       "    <tr style=\"text-align: right;\">\n",
       "      <th></th>\n",
       "      <th>SeriousDlqin2yrs</th>\n",
       "      <th>RevolvingUtilizationOfUnsecuredLines</th>\n",
       "      <th>age</th>\n",
       "      <th>NumberOfTime30-59DaysPastDueNotWorse</th>\n",
       "      <th>DebtRatio</th>\n",
       "      <th>MonthlyIncome</th>\n",
       "      <th>NumberOfOpenCreditLinesAndLoans</th>\n",
       "      <th>NumberOfTimes90DaysLate</th>\n",
       "      <th>NumberRealEstateLoansOrLines</th>\n",
       "      <th>NumberOfTime60-89DaysPastDueNotWorse</th>\n",
       "      <th>NumberOfDependents</th>\n",
       "      <th>RevolvingUtilizationOfUnsecuredLines_woe</th>\n",
       "      <th>age_woe</th>\n",
       "      <th>NumberOfTime30-59DaysPastDueNotWorse_woe</th>\n",
       "      <th>NumberOfTimes90DaysLate_woe</th>\n",
       "      <th>NumberOfTime60-89DaysPastDueNotWorse_woe</th>\n",
       "    </tr>\n",
       "    <tr>\n",
       "      <th>Unnamed: 0</th>\n",
       "      <th></th>\n",
       "      <th></th>\n",
       "      <th></th>\n",
       "      <th></th>\n",
       "      <th></th>\n",
       "      <th></th>\n",
       "      <th></th>\n",
       "      <th></th>\n",
       "      <th></th>\n",
       "      <th></th>\n",
       "      <th></th>\n",
       "      <th></th>\n",
       "      <th></th>\n",
       "      <th></th>\n",
       "      <th></th>\n",
       "      <th></th>\n",
       "    </tr>\n",
       "  </thead>\n",
       "  <tbody>\n",
       "    <tr>\n",
       "      <th>1</th>\n",
       "      <td>NaN</td>\n",
       "      <td>0.885519</td>\n",
       "      <td>43</td>\n",
       "      <td>0</td>\n",
       "      <td>0.177513</td>\n",
       "      <td>5700.0</td>\n",
       "      <td>4</td>\n",
       "      <td>0</td>\n",
       "      <td>0</td>\n",
       "      <td>0</td>\n",
       "      <td>0.0</td>\n",
       "      <td>-1.204</td>\n",
       "      <td>-0.482</td>\n",
       "      <td>2.625</td>\n",
       "      <td>3.301</td>\n",
       "      <td>2.982</td>\n",
       "    </tr>\n",
       "  </tbody>\n",
       "</table>\n",
       "</div>"
      ],
      "text/plain": [
       "            SeriousDlqin2yrs  RevolvingUtilizationOfUnsecuredLines  age  \\\n",
       "Unnamed: 0                                                                \n",
       "1                        NaN                              0.885519   43   \n",
       "\n",
       "            NumberOfTime30-59DaysPastDueNotWorse  DebtRatio  MonthlyIncome  \\\n",
       "Unnamed: 0                                                                   \n",
       "1                                              0   0.177513         5700.0   \n",
       "\n",
       "            NumberOfOpenCreditLinesAndLoans  NumberOfTimes90DaysLate  \\\n",
       "Unnamed: 0                                                             \n",
       "1                                         4                        0   \n",
       "\n",
       "            NumberRealEstateLoansOrLines  \\\n",
       "Unnamed: 0                                 \n",
       "1                                      0   \n",
       "\n",
       "            NumberOfTime60-89DaysPastDueNotWorse  NumberOfDependents  \\\n",
       "Unnamed: 0                                                             \n",
       "1                                              0                 0.0   \n",
       "\n",
       "            RevolvingUtilizationOfUnsecuredLines_woe  age_woe  \\\n",
       "Unnamed: 0                                                      \n",
       "1                                             -1.204   -0.482   \n",
       "\n",
       "            NumberOfTime30-59DaysPastDueNotWorse_woe  \\\n",
       "Unnamed: 0                                             \n",
       "1                                              2.625   \n",
       "\n",
       "            NumberOfTimes90DaysLate_woe  \\\n",
       "Unnamed: 0                                \n",
       "1                                 3.301   \n",
       "\n",
       "            NumberOfTime60-89DaysPastDueNotWorse_woe  \n",
       "Unnamed: 0                                            \n",
       "1                                              2.982  "
      ]
     },
     "execution_count": 45,
     "metadata": {},
     "output_type": "execute_result"
    }
   ],
   "source": [
    "#预测测试集\n",
    "#测试集转化为WOE值\n",
    "test_data=trans_woe(test_data,x1_name,woex1_list,cutx1_list)\n",
    "test_data=trans_woe(test_data,x2_name,woex2_list,cutx2_list)\n",
    "test_data=trans_woe(test_data,x3_name,woex3_list,cutx3_list)\n",
    "test_data=trans_woe(test_data,x7_name,woex7_list,cutx7_list)\n",
    "test_data=trans_woe(test_data,x9_name,woex9_list,cutx9_list)\n",
    "test_data.head(1)"
   ]
  },
  {
   "cell_type": "code",
   "execution_count": 46,
   "id": "e7a42ef4-036b-44f2-ad60-2ef4f3094696",
   "metadata": {},
   "outputs": [],
   "source": [
    "# #自变量，剔除对因变量影响不明显的变量\n",
    "# test_data=test_data.drop(['DebtRatio','MonthlyIncome', 'NumberOfOpenCreditLinesAndLoans','NumberRealEstateLoansOrLines','NumberOfDependents'],axis=1)"
   ]
  },
  {
   "cell_type": "code",
   "execution_count": 47,
   "id": "ff1a3a10-6cd0-4744-932e-553e8f22a44c",
   "metadata": {},
   "outputs": [
    {
     "data": {
      "text/html": [
       "<div>\n",
       "<style scoped>\n",
       "    .dataframe tbody tr th:only-of-type {\n",
       "        vertical-align: middle;\n",
       "    }\n",
       "\n",
       "    .dataframe tbody tr th {\n",
       "        vertical-align: top;\n",
       "    }\n",
       "\n",
       "    .dataframe thead th {\n",
       "        text-align: right;\n",
       "    }\n",
       "</style>\n",
       "<table border=\"1\" class=\"dataframe\">\n",
       "  <thead>\n",
       "    <tr style=\"text-align: right;\">\n",
       "      <th></th>\n",
       "      <th>RevolvingUtilizationOfUnsecuredLines_woe</th>\n",
       "      <th>age_woe</th>\n",
       "      <th>NumberOfTime30-59DaysPastDueNotWorse_woe</th>\n",
       "      <th>NumberOfTimes90DaysLate_woe</th>\n",
       "      <th>NumberOfTime60-89DaysPastDueNotWorse_woe</th>\n",
       "    </tr>\n",
       "    <tr>\n",
       "      <th>Unnamed: 0</th>\n",
       "      <th></th>\n",
       "      <th></th>\n",
       "      <th></th>\n",
       "      <th></th>\n",
       "      <th></th>\n",
       "    </tr>\n",
       "  </thead>\n",
       "  <tbody>\n",
       "    <tr>\n",
       "      <th>1</th>\n",
       "      <td>-1.204</td>\n",
       "      <td>-0.482</td>\n",
       "      <td>2.625</td>\n",
       "      <td>3.301</td>\n",
       "      <td>2.982</td>\n",
       "    </tr>\n",
       "  </tbody>\n",
       "</table>\n",
       "</div>"
      ],
      "text/plain": [
       "            RevolvingUtilizationOfUnsecuredLines_woe  age_woe  \\\n",
       "Unnamed: 0                                                      \n",
       "1                                             -1.204   -0.482   \n",
       "\n",
       "            NumberOfTime30-59DaysPastDueNotWorse_woe  \\\n",
       "Unnamed: 0                                             \n",
       "1                                              2.625   \n",
       "\n",
       "            NumberOfTimes90DaysLate_woe  \\\n",
       "Unnamed: 0                                \n",
       "1                                 3.301   \n",
       "\n",
       "            NumberOfTime60-89DaysPastDueNotWorse_woe  \n",
       "Unnamed: 0                                            \n",
       "1                                              2.982  "
      ]
     },
     "execution_count": 47,
     "metadata": {},
     "output_type": "execute_result"
    }
   ],
   "source": [
    "test_X_data = test_data.iloc[:,-5:]\n",
    "test_Y_data = test_data['SeriousDlqin2yrs']   # 因变量\n",
    "test_X_data.head(1)"
   ]
  },
  {
   "cell_type": "code",
   "execution_count": 48,
   "id": "036d76a9-be60-4e4b-96ed-c119ef017e85",
   "metadata": {},
   "outputs": [
    {
     "data": {
      "text/plain": [
       "Unnamed: 0\n",
       "1         0.072131\n",
       "2         0.049123\n",
       "3         0.024871\n",
       "4         0.112514\n",
       "5         0.093232\n",
       "            ...   \n",
       "101498    0.023513\n",
       "101499    0.088698\n",
       "101500    0.243125\n",
       "101502    0.070486\n",
       "101503    0.088698\n",
       "Length: 96535, dtype: float64"
      ]
     },
     "execution_count": 48,
     "metadata": {},
     "output_type": "execute_result"
    }
   ],
   "source": [
    "\n",
    "# X_train=training.copy().iloc[:,-5:]\n",
    "# Y_train=training.copy()['SeriousDlqin2yrs']\n",
    "# clf = LogisticRegression()\n",
    "# clf.fit(X_train,Y_train)\n",
    "#对测试集做预测\n",
    "sm_test_X_data = sm.add_constant(test_X_data)\n",
    "score_proba = model.predict(sm_test_X_data)\n",
    "score_proba"
   ]
  },
  {
   "cell_type": "code",
   "execution_count": 49,
   "id": "72719a78-137c-41d1-87cc-a80524639f70",
   "metadata": {},
   "outputs": [
    {
     "data": {
      "text/html": [
       "<div>\n",
       "<style scoped>\n",
       "    .dataframe tbody tr th:only-of-type {\n",
       "        vertical-align: middle;\n",
       "    }\n",
       "\n",
       "    .dataframe tbody tr th {\n",
       "        vertical-align: top;\n",
       "    }\n",
       "\n",
       "    .dataframe thead th {\n",
       "        text-align: right;\n",
       "    }\n",
       "</style>\n",
       "<table border=\"1\" class=\"dataframe\">\n",
       "  <thead>\n",
       "    <tr style=\"text-align: right;\">\n",
       "      <th></th>\n",
       "      <th>SeriousDlqin2yrs</th>\n",
       "      <th>RevolvingUtilizationOfUnsecuredLines</th>\n",
       "      <th>age</th>\n",
       "      <th>NumberOfTime30-59DaysPastDueNotWorse</th>\n",
       "      <th>DebtRatio</th>\n",
       "      <th>MonthlyIncome</th>\n",
       "      <th>NumberOfOpenCreditLinesAndLoans</th>\n",
       "      <th>NumberOfTimes90DaysLate</th>\n",
       "      <th>NumberRealEstateLoansOrLines</th>\n",
       "      <th>NumberOfTime60-89DaysPastDueNotWorse</th>\n",
       "      <th>NumberOfDependents</th>\n",
       "      <th>RevolvingUtilizationOfUnsecuredLines_woe</th>\n",
       "      <th>age_woe</th>\n",
       "      <th>NumberOfTime30-59DaysPastDueNotWorse_woe</th>\n",
       "      <th>NumberOfTimes90DaysLate_woe</th>\n",
       "      <th>NumberOfTime60-89DaysPastDueNotWorse_woe</th>\n",
       "      <th>y_predproba</th>\n",
       "    </tr>\n",
       "    <tr>\n",
       "      <th>Unnamed: 0</th>\n",
       "      <th></th>\n",
       "      <th></th>\n",
       "      <th></th>\n",
       "      <th></th>\n",
       "      <th></th>\n",
       "      <th></th>\n",
       "      <th></th>\n",
       "      <th></th>\n",
       "      <th></th>\n",
       "      <th></th>\n",
       "      <th></th>\n",
       "      <th></th>\n",
       "      <th></th>\n",
       "      <th></th>\n",
       "      <th></th>\n",
       "      <th></th>\n",
       "      <th></th>\n",
       "    </tr>\n",
       "  </thead>\n",
       "  <tbody>\n",
       "    <tr>\n",
       "      <th>1</th>\n",
       "      <td>NaN</td>\n",
       "      <td>0.885519</td>\n",
       "      <td>43</td>\n",
       "      <td>0</td>\n",
       "      <td>0.177513</td>\n",
       "      <td>5700.0</td>\n",
       "      <td>4</td>\n",
       "      <td>0</td>\n",
       "      <td>0</td>\n",
       "      <td>0</td>\n",
       "      <td>0.0</td>\n",
       "      <td>-1.204</td>\n",
       "      <td>-0.482</td>\n",
       "      <td>2.625</td>\n",
       "      <td>3.301</td>\n",
       "      <td>2.982</td>\n",
       "      <td>0.072131</td>\n",
       "    </tr>\n",
       "  </tbody>\n",
       "</table>\n",
       "</div>"
      ],
      "text/plain": [
       "            SeriousDlqin2yrs  RevolvingUtilizationOfUnsecuredLines  age  \\\n",
       "Unnamed: 0                                                                \n",
       "1                        NaN                              0.885519   43   \n",
       "\n",
       "            NumberOfTime30-59DaysPastDueNotWorse  DebtRatio  MonthlyIncome  \\\n",
       "Unnamed: 0                                                                   \n",
       "1                                              0   0.177513         5700.0   \n",
       "\n",
       "            NumberOfOpenCreditLinesAndLoans  NumberOfTimes90DaysLate  \\\n",
       "Unnamed: 0                                                             \n",
       "1                                         4                        0   \n",
       "\n",
       "            NumberRealEstateLoansOrLines  \\\n",
       "Unnamed: 0                                 \n",
       "1                                      0   \n",
       "\n",
       "            NumberOfTime60-89DaysPastDueNotWorse  NumberOfDependents  \\\n",
       "Unnamed: 0                                                             \n",
       "1                                              0                 0.0   \n",
       "\n",
       "            RevolvingUtilizationOfUnsecuredLines_woe  age_woe  \\\n",
       "Unnamed: 0                                                      \n",
       "1                                             -1.204   -0.482   \n",
       "\n",
       "            NumberOfTime30-59DaysPastDueNotWorse_woe  \\\n",
       "Unnamed: 0                                             \n",
       "1                                              2.625   \n",
       "\n",
       "            NumberOfTimes90DaysLate_woe  \\\n",
       "Unnamed: 0                                \n",
       "1                                 3.301   \n",
       "\n",
       "            NumberOfTime60-89DaysPastDueNotWorse_woe  y_predproba  \n",
       "Unnamed: 0                                                         \n",
       "1                                              2.982     0.072131  "
      ]
     },
     "execution_count": 49,
     "metadata": {},
     "output_type": "execute_result"
    }
   ],
   "source": [
    "test_data['y_predproba'] = score_proba\n",
    "test_data.head(1)"
   ]
  },
  {
   "cell_type": "code",
   "execution_count": 50,
   "id": "923d3fbb-9293-4ada-bd9d-2527947c303b",
   "metadata": {},
   "outputs": [],
   "source": [
    "#每一项得分\n",
    "test_x1_score = get_score(x_coe_list[1], woex1_list, p)\n",
    "test_x2_score = get_score(x_coe_list[2], woex2_list, p)\n",
    "test_x3_score = get_score(x_coe_list[3], woex3_list, p)\n",
    "test_x7_score = get_score(x_coe_list[4], woex7_list, p)\n",
    "test_x9_score = get_score(x_coe_list[5], woex9_list, p)"
   ]
  },
  {
   "cell_type": "code",
   "execution_count": 51,
   "id": "a7e97409-d099-44d0-b571-9479cb7a83ad",
   "metadata": {},
   "outputs": [
    {
     "data": {
      "text/html": [
       "<div>\n",
       "<style scoped>\n",
       "    .dataframe tbody tr th:only-of-type {\n",
       "        vertical-align: middle;\n",
       "    }\n",
       "\n",
       "    .dataframe tbody tr th {\n",
       "        vertical-align: top;\n",
       "    }\n",
       "\n",
       "    .dataframe thead th {\n",
       "        text-align: right;\n",
       "    }\n",
       "</style>\n",
       "<table border=\"1\" class=\"dataframe\">\n",
       "  <thead>\n",
       "    <tr style=\"text-align: right;\">\n",
       "      <th></th>\n",
       "      <th>SeriousDlqin2yrs</th>\n",
       "      <th>RevolvingUtilizationOfUnsecuredLines</th>\n",
       "      <th>age</th>\n",
       "      <th>NumberOfTime30-59DaysPastDueNotWorse</th>\n",
       "      <th>DebtRatio</th>\n",
       "      <th>MonthlyIncome</th>\n",
       "      <th>NumberOfOpenCreditLinesAndLoans</th>\n",
       "      <th>NumberOfTimes90DaysLate</th>\n",
       "      <th>NumberRealEstateLoansOrLines</th>\n",
       "      <th>NumberOfTime60-89DaysPastDueNotWorse</th>\n",
       "      <th>...</th>\n",
       "      <th>NumberOfTimes90DaysLate_woe</th>\n",
       "      <th>NumberOfTime60-89DaysPastDueNotWorse_woe</th>\n",
       "      <th>y_predproba</th>\n",
       "      <th>BaseScore</th>\n",
       "      <th>x1</th>\n",
       "      <th>x2</th>\n",
       "      <th>x3</th>\n",
       "      <th>x7</th>\n",
       "      <th>x9</th>\n",
       "      <th>Score</th>\n",
       "    </tr>\n",
       "    <tr>\n",
       "      <th>Unnamed: 0</th>\n",
       "      <th></th>\n",
       "      <th></th>\n",
       "      <th></th>\n",
       "      <th></th>\n",
       "      <th></th>\n",
       "      <th></th>\n",
       "      <th></th>\n",
       "      <th></th>\n",
       "      <th></th>\n",
       "      <th></th>\n",
       "      <th></th>\n",
       "      <th></th>\n",
       "      <th></th>\n",
       "      <th></th>\n",
       "      <th></th>\n",
       "      <th></th>\n",
       "      <th></th>\n",
       "      <th></th>\n",
       "      <th></th>\n",
       "      <th></th>\n",
       "      <th></th>\n",
       "    </tr>\n",
       "  </thead>\n",
       "  <tbody>\n",
       "    <tr>\n",
       "      <th>1</th>\n",
       "      <td>NaN</td>\n",
       "      <td>0.885519</td>\n",
       "      <td>43</td>\n",
       "      <td>0</td>\n",
       "      <td>0.177513</td>\n",
       "      <td>5700.0</td>\n",
       "      <td>4</td>\n",
       "      <td>0</td>\n",
       "      <td>0</td>\n",
       "      <td>0</td>\n",
       "      <td>...</td>\n",
       "      <td>3.301</td>\n",
       "      <td>2.982</td>\n",
       "      <td>0.072131</td>\n",
       "      <td>435.0</td>\n",
       "      <td>-23.0</td>\n",
       "      <td>-7.0</td>\n",
       "      <td>38.0</td>\n",
       "      <td>56.0</td>\n",
       "      <td>34.0</td>\n",
       "      <td>533.0</td>\n",
       "    </tr>\n",
       "  </tbody>\n",
       "</table>\n",
       "<p>1 rows × 24 columns</p>\n",
       "</div>"
      ],
      "text/plain": [
       "            SeriousDlqin2yrs  RevolvingUtilizationOfUnsecuredLines  age  \\\n",
       "Unnamed: 0                                                                \n",
       "1                        NaN                              0.885519   43   \n",
       "\n",
       "            NumberOfTime30-59DaysPastDueNotWorse  DebtRatio  MonthlyIncome  \\\n",
       "Unnamed: 0                                                                   \n",
       "1                                              0   0.177513         5700.0   \n",
       "\n",
       "            NumberOfOpenCreditLinesAndLoans  NumberOfTimes90DaysLate  \\\n",
       "Unnamed: 0                                                             \n",
       "1                                         4                        0   \n",
       "\n",
       "            NumberRealEstateLoansOrLines  \\\n",
       "Unnamed: 0                                 \n",
       "1                                      0   \n",
       "\n",
       "            NumberOfTime60-89DaysPastDueNotWorse  ...  \\\n",
       "Unnamed: 0                                        ...   \n",
       "1                                              0  ...   \n",
       "\n",
       "            NumberOfTimes90DaysLate_woe  \\\n",
       "Unnamed: 0                                \n",
       "1                                 3.301   \n",
       "\n",
       "            NumberOfTime60-89DaysPastDueNotWorse_woe  y_predproba  BaseScore  \\\n",
       "Unnamed: 0                                                                     \n",
       "1                                              2.982     0.072131      435.0   \n",
       "\n",
       "              x1   x2    x3    x7    x9  Score  \n",
       "Unnamed: 0                                      \n",
       "1          -23.0 -7.0  38.0  56.0  34.0  533.0  \n",
       "\n",
       "[1 rows x 24 columns]"
      ]
     },
     "execution_count": 51,
     "metadata": {},
     "output_type": "execute_result"
    }
   ],
   "source": [
    "test_data['BaseScore'] = np.zeros(len(test_data)) + baseScore\n",
    "test_data['x1'] =compute_score(test_data['RevolvingUtilizationOfUnsecuredLines'], cutx1_list, test_x1_score)\n",
    "test_data['x2'] = compute_score(test_data['age'], cutx2_list, test_x2_score)\n",
    "test_data['x3'] = compute_score(test_data['NumberOfTime30-59DaysPastDueNotWorse'], cutx3_list, test_x3_score)\n",
    "test_data['x7'] = compute_score(test_data['NumberOfTimes90DaysLate'], cutx7_list, test_x7_score)\n",
    "test_data['x9'] = compute_score(test_data['NumberOfTime60-89DaysPastDueNotWorse'],cutx9_list, test_x9_score)\n",
    "test_data['Score'] = test_data['x1'] + test_data['x2'] + test_data['x3'] + test_data['x7'] + test_data['x9']  + baseScore\n",
    "test_data.head(1)"
   ]
  },
  {
   "cell_type": "code",
   "execution_count": 52,
   "id": "90d10fbd-d9fc-4f84-8a09-29b979823cf5",
   "metadata": {},
   "outputs": [
    {
     "data": {
      "text/html": [
       "<div>\n",
       "<style scoped>\n",
       "    .dataframe tbody tr th:only-of-type {\n",
       "        vertical-align: middle;\n",
       "    }\n",
       "\n",
       "    .dataframe tbody tr th {\n",
       "        vertical-align: top;\n",
       "    }\n",
       "\n",
       "    .dataframe thead th {\n",
       "        text-align: right;\n",
       "    }\n",
       "</style>\n",
       "<table border=\"1\" class=\"dataframe\">\n",
       "  <thead>\n",
       "    <tr style=\"text-align: right;\">\n",
       "      <th></th>\n",
       "      <th>SeriousDlqin2yrs</th>\n",
       "      <th>y_predproba</th>\n",
       "      <th>BaseScore</th>\n",
       "      <th>x1</th>\n",
       "      <th>x2</th>\n",
       "      <th>x3</th>\n",
       "      <th>x7</th>\n",
       "      <th>x9</th>\n",
       "      <th>Score</th>\n",
       "    </tr>\n",
       "    <tr>\n",
       "      <th>Unnamed: 0</th>\n",
       "      <th></th>\n",
       "      <th></th>\n",
       "      <th></th>\n",
       "      <th></th>\n",
       "      <th></th>\n",
       "      <th></th>\n",
       "      <th></th>\n",
       "      <th></th>\n",
       "      <th></th>\n",
       "    </tr>\n",
       "  </thead>\n",
       "  <tbody>\n",
       "    <tr>\n",
       "      <th>1</th>\n",
       "      <td>NaN</td>\n",
       "      <td>0.072131</td>\n",
       "      <td>435.0</td>\n",
       "      <td>-23.0</td>\n",
       "      <td>-7.0</td>\n",
       "      <td>38.0</td>\n",
       "      <td>56.0</td>\n",
       "      <td>34.0</td>\n",
       "      <td>533.0</td>\n",
       "    </tr>\n",
       "  </tbody>\n",
       "</table>\n",
       "</div>"
      ],
      "text/plain": [
       "            SeriousDlqin2yrs  y_predproba  BaseScore    x1   x2    x3    x7  \\\n",
       "Unnamed: 0                                                                    \n",
       "1                        NaN     0.072131      435.0 -23.0 -7.0  38.0  56.0   \n",
       "\n",
       "              x9  Score  \n",
       "Unnamed: 0               \n",
       "1           34.0  533.0  "
      ]
     },
     "execution_count": 52,
     "metadata": {},
     "output_type": "execute_result"
    }
   ],
   "source": [
    "test_result_df = test_data.iloc[:,[0,-8,-7,-6,-5,-4,-3,-2,-1]]  #选取需要的列，就是评分列\n",
    "test_result_df.head(1)"
   ]
  },
  {
   "cell_type": "code",
   "execution_count": 53,
   "id": "f68c7074-eaf9-46a3-92a4-74e9842a57fa",
   "metadata": {},
   "outputs": [
    {
     "data": {
      "text/html": [
       "<div>\n",
       "<style scoped>\n",
       "    .dataframe tbody tr th:only-of-type {\n",
       "        vertical-align: middle;\n",
       "    }\n",
       "\n",
       "    .dataframe tbody tr th {\n",
       "        vertical-align: top;\n",
       "    }\n",
       "\n",
       "    .dataframe thead th {\n",
       "        text-align: right;\n",
       "    }\n",
       "</style>\n",
       "<table border=\"1\" class=\"dataframe\">\n",
       "  <thead>\n",
       "    <tr style=\"text-align: right;\">\n",
       "      <th></th>\n",
       "      <th>SeriousDlqin2yrs</th>\n",
       "      <th>y_predproba</th>\n",
       "      <th>BaseScore</th>\n",
       "      <th>RevolvingUtilizationOfUnsecuredLines</th>\n",
       "      <th>age</th>\n",
       "      <th>NumberOfTime30-59DaysPastDueNotWorse</th>\n",
       "      <th>NumberOfTimes90DaysLate</th>\n",
       "      <th>NumberOfTime60-89DaysPastDueNotWorse</th>\n",
       "      <th>Score</th>\n",
       "    </tr>\n",
       "    <tr>\n",
       "      <th>Unnamed: 0</th>\n",
       "      <th></th>\n",
       "      <th></th>\n",
       "      <th></th>\n",
       "      <th></th>\n",
       "      <th></th>\n",
       "      <th></th>\n",
       "      <th></th>\n",
       "      <th></th>\n",
       "      <th></th>\n",
       "    </tr>\n",
       "  </thead>\n",
       "  <tbody>\n",
       "    <tr>\n",
       "      <th>1</th>\n",
       "      <td>NaN</td>\n",
       "      <td>0.072131</td>\n",
       "      <td>435.0</td>\n",
       "      <td>-23.0</td>\n",
       "      <td>-7.0</td>\n",
       "      <td>38.0</td>\n",
       "      <td>56.0</td>\n",
       "      <td>34.0</td>\n",
       "      <td>533.0</td>\n",
       "    </tr>\n",
       "  </tbody>\n",
       "</table>\n",
       "</div>"
      ],
      "text/plain": [
       "            SeriousDlqin2yrs  y_predproba  BaseScore  \\\n",
       "Unnamed: 0                                             \n",
       "1                        NaN     0.072131      435.0   \n",
       "\n",
       "            RevolvingUtilizationOfUnsecuredLines  age  \\\n",
       "Unnamed: 0                                              \n",
       "1                                          -23.0 -7.0   \n",
       "\n",
       "            NumberOfTime30-59DaysPastDueNotWorse  NumberOfTimes90DaysLate  \\\n",
       "Unnamed: 0                                                                  \n",
       "1                                           38.0                     56.0   \n",
       "\n",
       "            NumberOfTime60-89DaysPastDueNotWorse  Score  \n",
       "Unnamed: 0                                               \n",
       "1                                           34.0  533.0  "
      ]
     },
     "execution_count": 53,
     "metadata": {},
     "output_type": "execute_result"
    }
   ],
   "source": [
    "col_name_dict = {'x1': 'RevolvingUtilizationOfUnsecuredLines',\n",
    "                 'x2':'age',\n",
    "                 'x3':'NumberOfTime30-59DaysPastDueNotWorse',\n",
    "                 'x7':'NumberOfTimes90DaysLate',\n",
    "                 'x9':'NumberOfTime60-89DaysPastDueNotWorse'}\n",
    "tset_final_df = test_result_df.rename(columns=col_name_dict, inplace=False)\n",
    "tset_final_df.head(1)"
   ]
  },
  {
   "cell_type": "code",
   "execution_count": null,
   "id": "26d95e84-1f78-4307-a5ba-5ba57d1b8654",
   "metadata": {},
   "outputs": [],
   "source": []
  }
 ],
 "metadata": {
  "kernelspec": {
   "display_name": "Python 3 (ipykernel)",
   "language": "python",
   "name": "python3"
  },
  "language_info": {
   "codemirror_mode": {
    "name": "ipython",
    "version": 3
   },
   "file_extension": ".py",
   "mimetype": "text/x-python",
   "name": "python",
   "nbconvert_exporter": "python",
   "pygments_lexer": "ipython3",
   "version": "3.9.12"
  }
 },
 "nbformat": 4,
 "nbformat_minor": 5
}
